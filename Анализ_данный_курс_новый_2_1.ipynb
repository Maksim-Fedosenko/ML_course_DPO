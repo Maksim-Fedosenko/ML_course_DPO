{
  "nbformat": 4,
  "nbformat_minor": 0,
  "metadata": {
    "colab": {
      "provenance": [],
      "include_colab_link": true
    },
    "kernelspec": {
      "name": "python3",
      "display_name": "Python 3"
    },
    "language_info": {
      "name": "python"
    }
  },
  "cells": [
    {
      "cell_type": "markdown",
      "metadata": {
        "id": "view-in-github",
        "colab_type": "text"
      },
      "source": [
        "<a href=\"https://colab.research.google.com/github/Maksim-Fedosenko/ML_course_DPO/blob/main/%D0%90%D0%BD%D0%B0%D0%BB%D0%B8%D0%B7_%D0%B4%D0%B0%D0%BD%D0%BD%D1%8B%D0%B9_%D0%BA%D1%83%D1%80%D1%81_%D0%BD%D0%BE%D0%B2%D1%8B%D0%B9_2_1.ipynb\" target=\"_parent\"><img src=\"https://colab.research.google.com/assets/colab-badge.svg\" alt=\"Open In Colab\"/></a>"
      ]
    },
    {
      "cell_type": "markdown",
      "source": [
        "0. Суть исследовательской задачи заключается в следующем: имеется большой набор данных платёжных транзакций. Среди него есть мошенические транзакции, статус которых был определён ранее банковской системой выявления мошенничества. И необходимо сделать следующее\n",
        " - Разметить данные на предмет мошенничество\\не мошенничество\n",
        " - Выполнить их предобработку: оставить поля, которые явно смогут указывать на мошенничество \n",
        " - Поработать с проблемой несбалансированности данных, чтобы избежать проблемы неправильного обучения модели и игнорирования малого количества мошеннических транзакций в качестве шума\n",
        " - Обучить модель. Выбрать для этого наиболее удачные методы машинного обучения и их параметры, которые дадут наилучший показатель по F1 и AUC, сократят количество ложноположительных срабатываний (когда система выявляет ошибочно легитимную транзакцию как мошенническую, тем самым создавая неудобства легитимным пользователям платёжной системы), а также выявят наибольшое число верно идентифицированных мошеннических платежей\n",
        " - Проверить точность предсказания модели, сделать выводы по результатам задачи"
      ],
      "metadata": {
        "id": "We3ikdIDPKJv"
      }
    },
    {
      "cell_type": "markdown",
      "source": [
        "1. Установка библиотек для возможности монтировать наборы данных со своего гугл диска. Сделано с целью удобства, чтобы он был доступен при запуске с любой машины.\n"
      ],
      "metadata": {
        "id": "nh338xGdSq8e"
      }
    },
    {
      "cell_type": "code",
      "metadata": {
        "id": "LyKjlj6Ag01G",
        "colab": {
          "base_uri": "https://localhost:8080/"
        },
        "outputId": "106bfe4f-de95-46c9-e808-15a43af5af00"
      },
      "source": [
        "!pip install requests\n",
        "!pip install aiohttp"
      ],
      "execution_count": 1,
      "outputs": [
        {
          "output_type": "stream",
          "name": "stdout",
          "text": [
            "Looking in indexes: https://pypi.org/simple, https://us-python.pkg.dev/colab-wheels/public/simple/\n",
            "Requirement already satisfied: requests in /usr/local/lib/python3.8/dist-packages (2.25.1)\n",
            "Requirement already satisfied: idna<3,>=2.5 in /usr/local/lib/python3.8/dist-packages (from requests) (2.10)\n",
            "Requirement already satisfied: urllib3<1.27,>=1.21.1 in /usr/local/lib/python3.8/dist-packages (from requests) (1.24.3)\n",
            "Requirement already satisfied: certifi>=2017.4.17 in /usr/local/lib/python3.8/dist-packages (from requests) (2022.12.7)\n",
            "Requirement already satisfied: chardet<5,>=3.0.2 in /usr/local/lib/python3.8/dist-packages (from requests) (4.0.0)\n",
            "Looking in indexes: https://pypi.org/simple, https://us-python.pkg.dev/colab-wheels/public/simple/\n",
            "Requirement already satisfied: aiohttp in /usr/local/lib/python3.8/dist-packages (3.8.3)\n",
            "Requirement already satisfied: yarl<2.0,>=1.0 in /usr/local/lib/python3.8/dist-packages (from aiohttp) (1.8.2)\n",
            "Requirement already satisfied: frozenlist>=1.1.1 in /usr/local/lib/python3.8/dist-packages (from aiohttp) (1.3.3)\n",
            "Requirement already satisfied: aiosignal>=1.1.2 in /usr/local/lib/python3.8/dist-packages (from aiohttp) (1.3.1)\n",
            "Requirement already satisfied: multidict<7.0,>=4.5 in /usr/local/lib/python3.8/dist-packages (from aiohttp) (6.0.4)\n",
            "Requirement already satisfied: async-timeout<5.0,>=4.0.0a3 in /usr/local/lib/python3.8/dist-packages (from aiohttp) (4.0.2)\n",
            "Requirement already satisfied: charset-normalizer<3.0,>=2.0 in /usr/local/lib/python3.8/dist-packages (from aiohttp) (2.1.1)\n",
            "Requirement already satisfied: attrs>=17.3.0 in /usr/local/lib/python3.8/dist-packages (from aiohttp) (22.2.0)\n",
            "Requirement already satisfied: idna>=2.0 in /usr/local/lib/python3.8/dist-packages (from yarl<2.0,>=1.0->aiohttp) (2.10)\n"
          ]
        }
      ]
    },
    {
      "cell_type": "markdown",
      "source": [
        "2. Импортируем pandas для чтения и работы с данными, dask - как более оптимальную версию в случае, если придётс делить вычислительные ресурсы при большом объёме данных и выполняемых работах,  чтобы обработать данные, datetime - для её использования в процессе предобработки данных"
      ],
      "metadata": {
        "id": "UUH4NudxS4O_"
      }
    },
    {
      "cell_type": "code",
      "metadata": {
        "id": "xGqeY87Qqmfq"
      },
      "source": [
        "import pandas as pd\n",
        "import datetime as dt\n",
        "import dask.dataframe as dd"
      ],
      "execution_count": 2,
      "outputs": []
    },
    {
      "cell_type": "markdown",
      "source": [
        "3. Прочитаем наборы данных: \n",
        " - сырой набор транзакций\n",
        " - набор, где исключили лишние колонки и предобработали: разметили данные фрод, не фрод, сомнение, добавили поле rec_user_id\n",
        "  - Очищенный набор, где оставили только метки платежа и его идентификатор\n",
        "\n",
        "   (*) Изначально, был только первый сырой набор, а ко 2-му и 3-му приходили в процессе разметки и предобработки. но поскольку код сломался, но данные были сохранены и доработаны вручную, то загружаем все три "
      ],
      "metadata": {
        "id": "_3FUMaeyTHZ-"
      }
    },
    {
      "cell_type": "code",
      "metadata": {
        "id": "3KwqGeV3kQmY"
      },
      "source": [
        "#1\n",
        "url_hist_trx = 'https://drive.google.com/file/d/1TOn68LUANq36MoXoxNBdqx6GQmJlNYGt/view?usp=sharing'\n",
        "path_hist_trx = 'https://drive.google.com/uc?export=download&id='+url_hist_trx.split('/')[-2]\n",
        "\n",
        "#2\n",
        "url_hist0712 = 'https://drive.google.com/file/d/1_0nI4ZOfR8QhW4ai2o05koRFFgr09F40/view?usp=sharing'\n",
        "path_hist0712 = 'https://drive.google.com/uc?export=download&id='+url_hist0712.split('/')[-2]\n",
        "\n",
        "#3\n",
        "url_clear = 'https://drive.google.com/file/d/1QsoTsiAufOfT27jxanJ01Rf5gR0_OEtg/view?usp=sharing'\n",
        "path_clear = 'https://drive.google.com/uc?export=download&id='+url_clear.split('/')[-2]"
      ],
      "execution_count": 3,
      "outputs": []
    },
    {
      "cell_type": "markdown",
      "source": [
        "4. Посмотрим,что это за данные и верно ли всё выгрузилось"
      ],
      "metadata": {
        "id": "-N-v9_jXUiOf"
      }
    },
    {
      "cell_type": "code",
      "metadata": {
        "id": "5he-Vw5tkaQH",
        "colab": {
          "base_uri": "https://localhost:8080/",
          "height": 374
        },
        "outputId": "81e44cbf-c031-4359-92ee-b4c89190f82b"
      },
      "source": [
        "df_hist_trx = pd.read_csv(path_hist_trx)\n",
        "df_hist_trx.head()"
      ],
      "execution_count": 4,
      "outputs": [
        {
          "output_type": "execute_result",
          "data": {
            "text/plain": [
              "   Unnamed: 0                          event_id            date_time  \\\n",
              "0           0  22c9f1ac686a43e18cdb798489193238  2018-12-06 09:33:21   \n",
              "1           1  62dac13fac68416d9bc340c51ddcb977  2018-12-06 09:36:08   \n",
              "2           2  9b666b8c9d4d4faea78e2b28a5468794  2018-12-06 12:21:02   \n",
              "3           3  d4d805fc3d5f4c91aa9b0389333b780c  2018-12-06 07:46:58   \n",
              "4           4  1d162351117a4418949dcf94111b9964  2018-12-06 12:21:27   \n",
              "\n",
              "     user_id      sub_channel event_type      sub_type  atm_mcc mcc_group  \\\n",
              "0  102050167  ISSUER_ACQUIRER    PAYMENT  POS_PURCHASE   5921.0         R   \n",
              "1  102050167  ISSUER_ACQUIRER    PAYMENT  POS_PURCHASE   5331.0         R   \n",
              "2  102050167  ISSUER_ACQUIRER    PAYMENT  POS_PURCHASE   5921.0         R   \n",
              "3  102050167  ISSUER_ACQUIRER    PAYMENT  POS_PURCHASE   5331.0         R   \n",
              "4  102050167  ISSUER_ACQUIRER    PAYMENT  POS_PURCHASE   5331.0         R   \n",
              "\n",
              "  atm_merchant_name  amount  \n",
              "0           YUG 426   280.0  \n",
              "1    MAGAZIN RODINA   376.9  \n",
              "2           YUG 426   143.0  \n",
              "3    MAGAZIN RODINA   162.0  \n",
              "4    MAGAZIN RODINA    56.0  "
            ],
            "text/html": [
              "\n",
              "  <div id=\"df-8391f5b8-b587-4869-aa47-5387aacc7151\">\n",
              "    <div class=\"colab-df-container\">\n",
              "      <div>\n",
              "<style scoped>\n",
              "    .dataframe tbody tr th:only-of-type {\n",
              "        vertical-align: middle;\n",
              "    }\n",
              "\n",
              "    .dataframe tbody tr th {\n",
              "        vertical-align: top;\n",
              "    }\n",
              "\n",
              "    .dataframe thead th {\n",
              "        text-align: right;\n",
              "    }\n",
              "</style>\n",
              "<table border=\"1\" class=\"dataframe\">\n",
              "  <thead>\n",
              "    <tr style=\"text-align: right;\">\n",
              "      <th></th>\n",
              "      <th>Unnamed: 0</th>\n",
              "      <th>event_id</th>\n",
              "      <th>date_time</th>\n",
              "      <th>user_id</th>\n",
              "      <th>sub_channel</th>\n",
              "      <th>event_type</th>\n",
              "      <th>sub_type</th>\n",
              "      <th>atm_mcc</th>\n",
              "      <th>mcc_group</th>\n",
              "      <th>atm_merchant_name</th>\n",
              "      <th>amount</th>\n",
              "    </tr>\n",
              "  </thead>\n",
              "  <tbody>\n",
              "    <tr>\n",
              "      <th>0</th>\n",
              "      <td>0</td>\n",
              "      <td>22c9f1ac686a43e18cdb798489193238</td>\n",
              "      <td>2018-12-06 09:33:21</td>\n",
              "      <td>102050167</td>\n",
              "      <td>ISSUER_ACQUIRER</td>\n",
              "      <td>PAYMENT</td>\n",
              "      <td>POS_PURCHASE</td>\n",
              "      <td>5921.0</td>\n",
              "      <td>R</td>\n",
              "      <td>YUG 426</td>\n",
              "      <td>280.0</td>\n",
              "    </tr>\n",
              "    <tr>\n",
              "      <th>1</th>\n",
              "      <td>1</td>\n",
              "      <td>62dac13fac68416d9bc340c51ddcb977</td>\n",
              "      <td>2018-12-06 09:36:08</td>\n",
              "      <td>102050167</td>\n",
              "      <td>ISSUER_ACQUIRER</td>\n",
              "      <td>PAYMENT</td>\n",
              "      <td>POS_PURCHASE</td>\n",
              "      <td>5331.0</td>\n",
              "      <td>R</td>\n",
              "      <td>MAGAZIN RODINA</td>\n",
              "      <td>376.9</td>\n",
              "    </tr>\n",
              "    <tr>\n",
              "      <th>2</th>\n",
              "      <td>2</td>\n",
              "      <td>9b666b8c9d4d4faea78e2b28a5468794</td>\n",
              "      <td>2018-12-06 12:21:02</td>\n",
              "      <td>102050167</td>\n",
              "      <td>ISSUER_ACQUIRER</td>\n",
              "      <td>PAYMENT</td>\n",
              "      <td>POS_PURCHASE</td>\n",
              "      <td>5921.0</td>\n",
              "      <td>R</td>\n",
              "      <td>YUG 426</td>\n",
              "      <td>143.0</td>\n",
              "    </tr>\n",
              "    <tr>\n",
              "      <th>3</th>\n",
              "      <td>3</td>\n",
              "      <td>d4d805fc3d5f4c91aa9b0389333b780c</td>\n",
              "      <td>2018-12-06 07:46:58</td>\n",
              "      <td>102050167</td>\n",
              "      <td>ISSUER_ACQUIRER</td>\n",
              "      <td>PAYMENT</td>\n",
              "      <td>POS_PURCHASE</td>\n",
              "      <td>5331.0</td>\n",
              "      <td>R</td>\n",
              "      <td>MAGAZIN RODINA</td>\n",
              "      <td>162.0</td>\n",
              "    </tr>\n",
              "    <tr>\n",
              "      <th>4</th>\n",
              "      <td>4</td>\n",
              "      <td>1d162351117a4418949dcf94111b9964</td>\n",
              "      <td>2018-12-06 12:21:27</td>\n",
              "      <td>102050167</td>\n",
              "      <td>ISSUER_ACQUIRER</td>\n",
              "      <td>PAYMENT</td>\n",
              "      <td>POS_PURCHASE</td>\n",
              "      <td>5331.0</td>\n",
              "      <td>R</td>\n",
              "      <td>MAGAZIN RODINA</td>\n",
              "      <td>56.0</td>\n",
              "    </tr>\n",
              "  </tbody>\n",
              "</table>\n",
              "</div>\n",
              "      <button class=\"colab-df-convert\" onclick=\"convertToInteractive('df-8391f5b8-b587-4869-aa47-5387aacc7151')\"\n",
              "              title=\"Convert this dataframe to an interactive table.\"\n",
              "              style=\"display:none;\">\n",
              "        \n",
              "  <svg xmlns=\"http://www.w3.org/2000/svg\" height=\"24px\"viewBox=\"0 0 24 24\"\n",
              "       width=\"24px\">\n",
              "    <path d=\"M0 0h24v24H0V0z\" fill=\"none\"/>\n",
              "    <path d=\"M18.56 5.44l.94 2.06.94-2.06 2.06-.94-2.06-.94-.94-2.06-.94 2.06-2.06.94zm-11 1L8.5 8.5l.94-2.06 2.06-.94-2.06-.94L8.5 2.5l-.94 2.06-2.06.94zm10 10l.94 2.06.94-2.06 2.06-.94-2.06-.94-.94-2.06-.94 2.06-2.06.94z\"/><path d=\"M17.41 7.96l-1.37-1.37c-.4-.4-.92-.59-1.43-.59-.52 0-1.04.2-1.43.59L10.3 9.45l-7.72 7.72c-.78.78-.78 2.05 0 2.83L4 21.41c.39.39.9.59 1.41.59.51 0 1.02-.2 1.41-.59l7.78-7.78 2.81-2.81c.8-.78.8-2.07 0-2.86zM5.41 20L4 18.59l7.72-7.72 1.47 1.35L5.41 20z\"/>\n",
              "  </svg>\n",
              "      </button>\n",
              "      \n",
              "  <style>\n",
              "    .colab-df-container {\n",
              "      display:flex;\n",
              "      flex-wrap:wrap;\n",
              "      gap: 12px;\n",
              "    }\n",
              "\n",
              "    .colab-df-convert {\n",
              "      background-color: #E8F0FE;\n",
              "      border: none;\n",
              "      border-radius: 50%;\n",
              "      cursor: pointer;\n",
              "      display: none;\n",
              "      fill: #1967D2;\n",
              "      height: 32px;\n",
              "      padding: 0 0 0 0;\n",
              "      width: 32px;\n",
              "    }\n",
              "\n",
              "    .colab-df-convert:hover {\n",
              "      background-color: #E2EBFA;\n",
              "      box-shadow: 0px 1px 2px rgba(60, 64, 67, 0.3), 0px 1px 3px 1px rgba(60, 64, 67, 0.15);\n",
              "      fill: #174EA6;\n",
              "    }\n",
              "\n",
              "    [theme=dark] .colab-df-convert {\n",
              "      background-color: #3B4455;\n",
              "      fill: #D2E3FC;\n",
              "    }\n",
              "\n",
              "    [theme=dark] .colab-df-convert:hover {\n",
              "      background-color: #434B5C;\n",
              "      box-shadow: 0px 1px 3px 1px rgba(0, 0, 0, 0.15);\n",
              "      filter: drop-shadow(0px 1px 2px rgba(0, 0, 0, 0.3));\n",
              "      fill: #FFFFFF;\n",
              "    }\n",
              "  </style>\n",
              "\n",
              "      <script>\n",
              "        const buttonEl =\n",
              "          document.querySelector('#df-8391f5b8-b587-4869-aa47-5387aacc7151 button.colab-df-convert');\n",
              "        buttonEl.style.display =\n",
              "          google.colab.kernel.accessAllowed ? 'block' : 'none';\n",
              "\n",
              "        async function convertToInteractive(key) {\n",
              "          const element = document.querySelector('#df-8391f5b8-b587-4869-aa47-5387aacc7151');\n",
              "          const dataTable =\n",
              "            await google.colab.kernel.invokeFunction('convertToInteractive',\n",
              "                                                     [key], {});\n",
              "          if (!dataTable) return;\n",
              "\n",
              "          const docLinkHtml = 'Like what you see? Visit the ' +\n",
              "            '<a target=\"_blank\" href=https://colab.research.google.com/notebooks/data_table.ipynb>data table notebook</a>'\n",
              "            + ' to learn more about interactive tables.';\n",
              "          element.innerHTML = '';\n",
              "          dataTable['output_type'] = 'display_data';\n",
              "          await google.colab.output.renderOutput(dataTable, element);\n",
              "          const docLink = document.createElement('div');\n",
              "          docLink.innerHTML = docLinkHtml;\n",
              "          element.appendChild(docLink);\n",
              "        }\n",
              "      </script>\n",
              "    </div>\n",
              "  </div>\n",
              "  "
            ]
          },
          "metadata": {},
          "execution_count": 4
        }
      ]
    },
    {
      "cell_type": "code",
      "source": [
        "df_hist_trx.shape"
      ],
      "metadata": {
        "colab": {
          "base_uri": "https://localhost:8080/"
        },
        "id": "kcyHR8_mRJha",
        "outputId": "22bb291f-1220-4ee4-90ad-b749754f0ade"
      },
      "execution_count": 6,
      "outputs": [
        {
          "output_type": "execute_result",
          "data": {
            "text/plain": [
              "(562490, 11)"
            ]
          },
          "metadata": {},
          "execution_count": 6
        }
      ]
    },
    {
      "cell_type": "code",
      "metadata": {
        "id": "QARfc1YgtIik",
        "colab": {
          "base_uri": "https://localhost:8080/",
          "height": 206
        },
        "outputId": "bcde3907-2951-430f-cc99-068aee8dbe37"
      },
      "source": [
        "df_hist0712=pd.read_csv(path_hist0712, index_col=0)\n",
        "df_hist0712.head()\n"
      ],
      "execution_count": 5,
      "outputs": [
        {
          "output_type": "execute_result",
          "data": {
            "text/plain": [
              "                            event_id   user_id  rec_user_id  \\\n",
              "5   0fcea7fec4ff479cac8cf37b4555c817  75301207     49913000   \n",
              "6   c29a4e64d27b435b9b55aa3e62ce54d4   1200695     12797310   \n",
              "8   3107b2b1afcb490ab0a31135eb4b386c  45657780     23814017   \n",
              "10  d9bc95d991144d53b950d8084fa846bf  21683486      9865131   \n",
              "22  9fc959da4cd144ea8bf5bae2dc041a5e   4531894  VSP15472255   \n",
              "\n",
              "              date_time resolution sub_channel  \n",
              "5   2018-12-07 07:56:49          G      ATMAPI  \n",
              "6   2018-12-07 07:14:41          G   MOBILEAPI  \n",
              "8   2018-12-07 14:02:30          G   MOBILEAPI  \n",
              "10  2018-12-07 10:32:41          G      WEBAPI  \n",
              "22  2018-12-07 18:22:52          G   MOBILEAPI  "
            ],
            "text/html": [
              "\n",
              "  <div id=\"df-0b18d0ec-fa06-4864-a27f-b11ac771094b\">\n",
              "    <div class=\"colab-df-container\">\n",
              "      <div>\n",
              "<style scoped>\n",
              "    .dataframe tbody tr th:only-of-type {\n",
              "        vertical-align: middle;\n",
              "    }\n",
              "\n",
              "    .dataframe tbody tr th {\n",
              "        vertical-align: top;\n",
              "    }\n",
              "\n",
              "    .dataframe thead th {\n",
              "        text-align: right;\n",
              "    }\n",
              "</style>\n",
              "<table border=\"1\" class=\"dataframe\">\n",
              "  <thead>\n",
              "    <tr style=\"text-align: right;\">\n",
              "      <th></th>\n",
              "      <th>event_id</th>\n",
              "      <th>user_id</th>\n",
              "      <th>rec_user_id</th>\n",
              "      <th>date_time</th>\n",
              "      <th>resolution</th>\n",
              "      <th>sub_channel</th>\n",
              "    </tr>\n",
              "  </thead>\n",
              "  <tbody>\n",
              "    <tr>\n",
              "      <th>5</th>\n",
              "      <td>0fcea7fec4ff479cac8cf37b4555c817</td>\n",
              "      <td>75301207</td>\n",
              "      <td>49913000</td>\n",
              "      <td>2018-12-07 07:56:49</td>\n",
              "      <td>G</td>\n",
              "      <td>ATMAPI</td>\n",
              "    </tr>\n",
              "    <tr>\n",
              "      <th>6</th>\n",
              "      <td>c29a4e64d27b435b9b55aa3e62ce54d4</td>\n",
              "      <td>1200695</td>\n",
              "      <td>12797310</td>\n",
              "      <td>2018-12-07 07:14:41</td>\n",
              "      <td>G</td>\n",
              "      <td>MOBILEAPI</td>\n",
              "    </tr>\n",
              "    <tr>\n",
              "      <th>8</th>\n",
              "      <td>3107b2b1afcb490ab0a31135eb4b386c</td>\n",
              "      <td>45657780</td>\n",
              "      <td>23814017</td>\n",
              "      <td>2018-12-07 14:02:30</td>\n",
              "      <td>G</td>\n",
              "      <td>MOBILEAPI</td>\n",
              "    </tr>\n",
              "    <tr>\n",
              "      <th>10</th>\n",
              "      <td>d9bc95d991144d53b950d8084fa846bf</td>\n",
              "      <td>21683486</td>\n",
              "      <td>9865131</td>\n",
              "      <td>2018-12-07 10:32:41</td>\n",
              "      <td>G</td>\n",
              "      <td>WEBAPI</td>\n",
              "    </tr>\n",
              "    <tr>\n",
              "      <th>22</th>\n",
              "      <td>9fc959da4cd144ea8bf5bae2dc041a5e</td>\n",
              "      <td>4531894</td>\n",
              "      <td>VSP15472255</td>\n",
              "      <td>2018-12-07 18:22:52</td>\n",
              "      <td>G</td>\n",
              "      <td>MOBILEAPI</td>\n",
              "    </tr>\n",
              "  </tbody>\n",
              "</table>\n",
              "</div>\n",
              "      <button class=\"colab-df-convert\" onclick=\"convertToInteractive('df-0b18d0ec-fa06-4864-a27f-b11ac771094b')\"\n",
              "              title=\"Convert this dataframe to an interactive table.\"\n",
              "              style=\"display:none;\">\n",
              "        \n",
              "  <svg xmlns=\"http://www.w3.org/2000/svg\" height=\"24px\"viewBox=\"0 0 24 24\"\n",
              "       width=\"24px\">\n",
              "    <path d=\"M0 0h24v24H0V0z\" fill=\"none\"/>\n",
              "    <path d=\"M18.56 5.44l.94 2.06.94-2.06 2.06-.94-2.06-.94-.94-2.06-.94 2.06-2.06.94zm-11 1L8.5 8.5l.94-2.06 2.06-.94-2.06-.94L8.5 2.5l-.94 2.06-2.06.94zm10 10l.94 2.06.94-2.06 2.06-.94-2.06-.94-.94-2.06-.94 2.06-2.06.94z\"/><path d=\"M17.41 7.96l-1.37-1.37c-.4-.4-.92-.59-1.43-.59-.52 0-1.04.2-1.43.59L10.3 9.45l-7.72 7.72c-.78.78-.78 2.05 0 2.83L4 21.41c.39.39.9.59 1.41.59.51 0 1.02-.2 1.41-.59l7.78-7.78 2.81-2.81c.8-.78.8-2.07 0-2.86zM5.41 20L4 18.59l7.72-7.72 1.47 1.35L5.41 20z\"/>\n",
              "  </svg>\n",
              "      </button>\n",
              "      \n",
              "  <style>\n",
              "    .colab-df-container {\n",
              "      display:flex;\n",
              "      flex-wrap:wrap;\n",
              "      gap: 12px;\n",
              "    }\n",
              "\n",
              "    .colab-df-convert {\n",
              "      background-color: #E8F0FE;\n",
              "      border: none;\n",
              "      border-radius: 50%;\n",
              "      cursor: pointer;\n",
              "      display: none;\n",
              "      fill: #1967D2;\n",
              "      height: 32px;\n",
              "      padding: 0 0 0 0;\n",
              "      width: 32px;\n",
              "    }\n",
              "\n",
              "    .colab-df-convert:hover {\n",
              "      background-color: #E2EBFA;\n",
              "      box-shadow: 0px 1px 2px rgba(60, 64, 67, 0.3), 0px 1px 3px 1px rgba(60, 64, 67, 0.15);\n",
              "      fill: #174EA6;\n",
              "    }\n",
              "\n",
              "    [theme=dark] .colab-df-convert {\n",
              "      background-color: #3B4455;\n",
              "      fill: #D2E3FC;\n",
              "    }\n",
              "\n",
              "    [theme=dark] .colab-df-convert:hover {\n",
              "      background-color: #434B5C;\n",
              "      box-shadow: 0px 1px 3px 1px rgba(0, 0, 0, 0.15);\n",
              "      filter: drop-shadow(0px 1px 2px rgba(0, 0, 0, 0.3));\n",
              "      fill: #FFFFFF;\n",
              "    }\n",
              "  </style>\n",
              "\n",
              "      <script>\n",
              "        const buttonEl =\n",
              "          document.querySelector('#df-0b18d0ec-fa06-4864-a27f-b11ac771094b button.colab-df-convert');\n",
              "        buttonEl.style.display =\n",
              "          google.colab.kernel.accessAllowed ? 'block' : 'none';\n",
              "\n",
              "        async function convertToInteractive(key) {\n",
              "          const element = document.querySelector('#df-0b18d0ec-fa06-4864-a27f-b11ac771094b');\n",
              "          const dataTable =\n",
              "            await google.colab.kernel.invokeFunction('convertToInteractive',\n",
              "                                                     [key], {});\n",
              "          if (!dataTable) return;\n",
              "\n",
              "          const docLinkHtml = 'Like what you see? Visit the ' +\n",
              "            '<a target=\"_blank\" href=https://colab.research.google.com/notebooks/data_table.ipynb>data table notebook</a>'\n",
              "            + ' to learn more about interactive tables.';\n",
              "          element.innerHTML = '';\n",
              "          dataTable['output_type'] = 'display_data';\n",
              "          await google.colab.output.renderOutput(dataTable, element);\n",
              "          const docLink = document.createElement('div');\n",
              "          docLink.innerHTML = docLinkHtml;\n",
              "          element.appendChild(docLink);\n",
              "        }\n",
              "      </script>\n",
              "    </div>\n",
              "  </div>\n",
              "  "
            ]
          },
          "metadata": {},
          "execution_count": 5
        }
      ]
    },
    {
      "cell_type": "code",
      "metadata": {
        "id": "pjXg5c_IwBMA",
        "colab": {
          "base_uri": "https://localhost:8080/"
        },
        "outputId": "c0271fdd-0095-48e2-bb07-99a71fa46ee9"
      },
      "source": [
        "df_hist0712.shape"
      ],
      "execution_count": 8,
      "outputs": [
        {
          "output_type": "execute_result",
          "data": {
            "text/plain": [
              "(9016, 6)"
            ]
          },
          "metadata": {},
          "execution_count": 8
        }
      ]
    },
    {
      "cell_type": "markdown",
      "source": [
        "5. Теперь нам интересно поработать с размеченным набором. Изучим его подробнее:  посмотрим, что за типы данных в колонках и выведем статистику по нему\n"
      ],
      "metadata": {
        "id": "DgTbZXPhVRFH"
      }
    },
    {
      "cell_type": "code",
      "metadata": {
        "id": "ZUbqGMCCwzNI",
        "colab": {
          "base_uri": "https://localhost:8080/"
        },
        "outputId": "ae38602d-3509-495e-e141-9d8e2e179843"
      },
      "source": [
        "df_hist0712.dtypes"
      ],
      "execution_count": 7,
      "outputs": [
        {
          "output_type": "execute_result",
          "data": {
            "text/plain": [
              "event_id       object\n",
              "user_id        object\n",
              "rec_user_id    object\n",
              "date_time      object\n",
              "resolution     object\n",
              "sub_channel    object\n",
              "dtype: object"
            ]
          },
          "metadata": {},
          "execution_count": 7
        }
      ]
    },
    {
      "cell_type": "code",
      "metadata": {
        "id": "ElGh-5wEw5ma",
        "colab": {
          "base_uri": "https://localhost:8080/",
          "height": 175
        },
        "outputId": "889bc0e8-6c5d-473f-9671-92cdd99408c3"
      },
      "source": [
        " df_hist0712.describe()"
      ],
      "execution_count": 9,
      "outputs": [
        {
          "output_type": "execute_result",
          "data": {
            "text/plain": [
              "                                event_id   user_id rec_user_id  \\\n",
              "count                               9016      9016        9016   \n",
              "unique                              9016      8507        7257   \n",
              "top     0fcea7fec4ff479cac8cf37b4555c817  20646287    71370973   \n",
              "freq                                   1         8         340   \n",
              "\n",
              "                  date_time resolution sub_channel  \n",
              "count                  9016       9016        9016  \n",
              "unique                 8372          3           3  \n",
              "top     2018-12-07 10:36:34          G   MOBILEAPI  \n",
              "freq                      3       8943        6528  "
            ],
            "text/html": [
              "\n",
              "  <div id=\"df-1779f027-c016-4ef9-82b2-fe5613d23778\">\n",
              "    <div class=\"colab-df-container\">\n",
              "      <div>\n",
              "<style scoped>\n",
              "    .dataframe tbody tr th:only-of-type {\n",
              "        vertical-align: middle;\n",
              "    }\n",
              "\n",
              "    .dataframe tbody tr th {\n",
              "        vertical-align: top;\n",
              "    }\n",
              "\n",
              "    .dataframe thead th {\n",
              "        text-align: right;\n",
              "    }\n",
              "</style>\n",
              "<table border=\"1\" class=\"dataframe\">\n",
              "  <thead>\n",
              "    <tr style=\"text-align: right;\">\n",
              "      <th></th>\n",
              "      <th>event_id</th>\n",
              "      <th>user_id</th>\n",
              "      <th>rec_user_id</th>\n",
              "      <th>date_time</th>\n",
              "      <th>resolution</th>\n",
              "      <th>sub_channel</th>\n",
              "    </tr>\n",
              "  </thead>\n",
              "  <tbody>\n",
              "    <tr>\n",
              "      <th>count</th>\n",
              "      <td>9016</td>\n",
              "      <td>9016</td>\n",
              "      <td>9016</td>\n",
              "      <td>9016</td>\n",
              "      <td>9016</td>\n",
              "      <td>9016</td>\n",
              "    </tr>\n",
              "    <tr>\n",
              "      <th>unique</th>\n",
              "      <td>9016</td>\n",
              "      <td>8507</td>\n",
              "      <td>7257</td>\n",
              "      <td>8372</td>\n",
              "      <td>3</td>\n",
              "      <td>3</td>\n",
              "    </tr>\n",
              "    <tr>\n",
              "      <th>top</th>\n",
              "      <td>0fcea7fec4ff479cac8cf37b4555c817</td>\n",
              "      <td>20646287</td>\n",
              "      <td>71370973</td>\n",
              "      <td>2018-12-07 10:36:34</td>\n",
              "      <td>G</td>\n",
              "      <td>MOBILEAPI</td>\n",
              "    </tr>\n",
              "    <tr>\n",
              "      <th>freq</th>\n",
              "      <td>1</td>\n",
              "      <td>8</td>\n",
              "      <td>340</td>\n",
              "      <td>3</td>\n",
              "      <td>8943</td>\n",
              "      <td>6528</td>\n",
              "    </tr>\n",
              "  </tbody>\n",
              "</table>\n",
              "</div>\n",
              "      <button class=\"colab-df-convert\" onclick=\"convertToInteractive('df-1779f027-c016-4ef9-82b2-fe5613d23778')\"\n",
              "              title=\"Convert this dataframe to an interactive table.\"\n",
              "              style=\"display:none;\">\n",
              "        \n",
              "  <svg xmlns=\"http://www.w3.org/2000/svg\" height=\"24px\"viewBox=\"0 0 24 24\"\n",
              "       width=\"24px\">\n",
              "    <path d=\"M0 0h24v24H0V0z\" fill=\"none\"/>\n",
              "    <path d=\"M18.56 5.44l.94 2.06.94-2.06 2.06-.94-2.06-.94-.94-2.06-.94 2.06-2.06.94zm-11 1L8.5 8.5l.94-2.06 2.06-.94-2.06-.94L8.5 2.5l-.94 2.06-2.06.94zm10 10l.94 2.06.94-2.06 2.06-.94-2.06-.94-.94-2.06-.94 2.06-2.06.94z\"/><path d=\"M17.41 7.96l-1.37-1.37c-.4-.4-.92-.59-1.43-.59-.52 0-1.04.2-1.43.59L10.3 9.45l-7.72 7.72c-.78.78-.78 2.05 0 2.83L4 21.41c.39.39.9.59 1.41.59.51 0 1.02-.2 1.41-.59l7.78-7.78 2.81-2.81c.8-.78.8-2.07 0-2.86zM5.41 20L4 18.59l7.72-7.72 1.47 1.35L5.41 20z\"/>\n",
              "  </svg>\n",
              "      </button>\n",
              "      \n",
              "  <style>\n",
              "    .colab-df-container {\n",
              "      display:flex;\n",
              "      flex-wrap:wrap;\n",
              "      gap: 12px;\n",
              "    }\n",
              "\n",
              "    .colab-df-convert {\n",
              "      background-color: #E8F0FE;\n",
              "      border: none;\n",
              "      border-radius: 50%;\n",
              "      cursor: pointer;\n",
              "      display: none;\n",
              "      fill: #1967D2;\n",
              "      height: 32px;\n",
              "      padding: 0 0 0 0;\n",
              "      width: 32px;\n",
              "    }\n",
              "\n",
              "    .colab-df-convert:hover {\n",
              "      background-color: #E2EBFA;\n",
              "      box-shadow: 0px 1px 2px rgba(60, 64, 67, 0.3), 0px 1px 3px 1px rgba(60, 64, 67, 0.15);\n",
              "      fill: #174EA6;\n",
              "    }\n",
              "\n",
              "    [theme=dark] .colab-df-convert {\n",
              "      background-color: #3B4455;\n",
              "      fill: #D2E3FC;\n",
              "    }\n",
              "\n",
              "    [theme=dark] .colab-df-convert:hover {\n",
              "      background-color: #434B5C;\n",
              "      box-shadow: 0px 1px 3px 1px rgba(0, 0, 0, 0.15);\n",
              "      filter: drop-shadow(0px 1px 2px rgba(0, 0, 0, 0.3));\n",
              "      fill: #FFFFFF;\n",
              "    }\n",
              "  </style>\n",
              "\n",
              "      <script>\n",
              "        const buttonEl =\n",
              "          document.querySelector('#df-1779f027-c016-4ef9-82b2-fe5613d23778 button.colab-df-convert');\n",
              "        buttonEl.style.display =\n",
              "          google.colab.kernel.accessAllowed ? 'block' : 'none';\n",
              "\n",
              "        async function convertToInteractive(key) {\n",
              "          const element = document.querySelector('#df-1779f027-c016-4ef9-82b2-fe5613d23778');\n",
              "          const dataTable =\n",
              "            await google.colab.kernel.invokeFunction('convertToInteractive',\n",
              "                                                     [key], {});\n",
              "          if (!dataTable) return;\n",
              "\n",
              "          const docLinkHtml = 'Like what you see? Visit the ' +\n",
              "            '<a target=\"_blank\" href=https://colab.research.google.com/notebooks/data_table.ipynb>data table notebook</a>'\n",
              "            + ' to learn more about interactive tables.';\n",
              "          element.innerHTML = '';\n",
              "          dataTable['output_type'] = 'display_data';\n",
              "          await google.colab.output.renderOutput(dataTable, element);\n",
              "          const docLink = document.createElement('div');\n",
              "          docLink.innerHTML = docLinkHtml;\n",
              "          element.appendChild(docLink);\n",
              "        }\n",
              "      </script>\n",
              "    </div>\n",
              "  </div>\n",
              "  "
            ]
          },
          "metadata": {},
          "execution_count": 9
        }
      ]
    },
    {
      "cell_type": "markdown",
      "source": [
        "6. Посчитаем общее количество значений: good (G) - легитимные транзакции, fraud (F) - мошеннические транзакции, survey (S) - сомнительные, требующие дополнительного исследования. Как видно из полученного набора, его сократили с 563 000 записей до 9 000 с целью сбалансировать данные"
      ],
      "metadata": {
        "id": "5CjlPJ1TVmMh"
      }
    },
    {
      "cell_type": "code",
      "metadata": {
        "id": "s4mih7-2xFTd",
        "colab": {
          "base_uri": "https://localhost:8080/"
        },
        "outputId": "0df371f1-24e7-4fff-e065-e3b676cd82ec"
      },
      "source": [
        "df_hist0712.resolution.value_counts()"
      ],
      "execution_count": 10,
      "outputs": [
        {
          "output_type": "execute_result",
          "data": {
            "text/plain": [
              "G    8943\n",
              "F      63\n",
              "S      10\n",
              "Name: resolution, dtype: int64"
            ]
          },
          "metadata": {},
          "execution_count": 10
        }
      ]
    },
    {
      "cell_type": "markdown",
      "source": [
        "7. Поработаем щё немного над балансировкой: избавимся от дубликатов, чтобы они не нагружали процесс обучения и не сбивали модель. При работе с платежами, дубликаты совсем не нужны и могут неверно обучать модель. Особенно в условиях несбалансированности. Затем присвоим данное преобразование переменной, чтобы в дальнейшем ещё немного предобработать при помощи EDA, а также иметь возможность его выгрузить \n",
        "\n",
        "(*) По сути, это и есть очищенный набор, который был выгружен изначально. Он не сломался, а выгружался на всякий случай"
      ],
      "metadata": {
        "id": "5JyvjGLQWO-Q"
      }
    },
    {
      "cell_type": "code",
      "metadata": {
        "id": "Z7U3pAZU0OeD",
        "colab": {
          "base_uri": "https://localhost:8080/",
          "height": 206
        },
        "outputId": "412e40b6-3595-40dd-aac2-2993ab420ecd"
      },
      "source": [
        "dr_d = df_hist0712[['rec_user_id','resolution']].drop_duplicates()\n",
        "dr_d.head()"
      ],
      "execution_count": 11,
      "outputs": [
        {
          "output_type": "execute_result",
          "data": {
            "text/plain": [
              "    rec_user_id resolution\n",
              "5      49913000          G\n",
              "6      12797310          G\n",
              "8      23814017          G\n",
              "10      9865131          G\n",
              "22  VSP15472255          G"
            ],
            "text/html": [
              "\n",
              "  <div id=\"df-7846ef71-2382-4fd6-8323-25ffdcdf9e10\">\n",
              "    <div class=\"colab-df-container\">\n",
              "      <div>\n",
              "<style scoped>\n",
              "    .dataframe tbody tr th:only-of-type {\n",
              "        vertical-align: middle;\n",
              "    }\n",
              "\n",
              "    .dataframe tbody tr th {\n",
              "        vertical-align: top;\n",
              "    }\n",
              "\n",
              "    .dataframe thead th {\n",
              "        text-align: right;\n",
              "    }\n",
              "</style>\n",
              "<table border=\"1\" class=\"dataframe\">\n",
              "  <thead>\n",
              "    <tr style=\"text-align: right;\">\n",
              "      <th></th>\n",
              "      <th>rec_user_id</th>\n",
              "      <th>resolution</th>\n",
              "    </tr>\n",
              "  </thead>\n",
              "  <tbody>\n",
              "    <tr>\n",
              "      <th>5</th>\n",
              "      <td>49913000</td>\n",
              "      <td>G</td>\n",
              "    </tr>\n",
              "    <tr>\n",
              "      <th>6</th>\n",
              "      <td>12797310</td>\n",
              "      <td>G</td>\n",
              "    </tr>\n",
              "    <tr>\n",
              "      <th>8</th>\n",
              "      <td>23814017</td>\n",
              "      <td>G</td>\n",
              "    </tr>\n",
              "    <tr>\n",
              "      <th>10</th>\n",
              "      <td>9865131</td>\n",
              "      <td>G</td>\n",
              "    </tr>\n",
              "    <tr>\n",
              "      <th>22</th>\n",
              "      <td>VSP15472255</td>\n",
              "      <td>G</td>\n",
              "    </tr>\n",
              "  </tbody>\n",
              "</table>\n",
              "</div>\n",
              "      <button class=\"colab-df-convert\" onclick=\"convertToInteractive('df-7846ef71-2382-4fd6-8323-25ffdcdf9e10')\"\n",
              "              title=\"Convert this dataframe to an interactive table.\"\n",
              "              style=\"display:none;\">\n",
              "        \n",
              "  <svg xmlns=\"http://www.w3.org/2000/svg\" height=\"24px\"viewBox=\"0 0 24 24\"\n",
              "       width=\"24px\">\n",
              "    <path d=\"M0 0h24v24H0V0z\" fill=\"none\"/>\n",
              "    <path d=\"M18.56 5.44l.94 2.06.94-2.06 2.06-.94-2.06-.94-.94-2.06-.94 2.06-2.06.94zm-11 1L8.5 8.5l.94-2.06 2.06-.94-2.06-.94L8.5 2.5l-.94 2.06-2.06.94zm10 10l.94 2.06.94-2.06 2.06-.94-2.06-.94-.94-2.06-.94 2.06-2.06.94z\"/><path d=\"M17.41 7.96l-1.37-1.37c-.4-.4-.92-.59-1.43-.59-.52 0-1.04.2-1.43.59L10.3 9.45l-7.72 7.72c-.78.78-.78 2.05 0 2.83L4 21.41c.39.39.9.59 1.41.59.51 0 1.02-.2 1.41-.59l7.78-7.78 2.81-2.81c.8-.78.8-2.07 0-2.86zM5.41 20L4 18.59l7.72-7.72 1.47 1.35L5.41 20z\"/>\n",
              "  </svg>\n",
              "      </button>\n",
              "      \n",
              "  <style>\n",
              "    .colab-df-container {\n",
              "      display:flex;\n",
              "      flex-wrap:wrap;\n",
              "      gap: 12px;\n",
              "    }\n",
              "\n",
              "    .colab-df-convert {\n",
              "      background-color: #E8F0FE;\n",
              "      border: none;\n",
              "      border-radius: 50%;\n",
              "      cursor: pointer;\n",
              "      display: none;\n",
              "      fill: #1967D2;\n",
              "      height: 32px;\n",
              "      padding: 0 0 0 0;\n",
              "      width: 32px;\n",
              "    }\n",
              "\n",
              "    .colab-df-convert:hover {\n",
              "      background-color: #E2EBFA;\n",
              "      box-shadow: 0px 1px 2px rgba(60, 64, 67, 0.3), 0px 1px 3px 1px rgba(60, 64, 67, 0.15);\n",
              "      fill: #174EA6;\n",
              "    }\n",
              "\n",
              "    [theme=dark] .colab-df-convert {\n",
              "      background-color: #3B4455;\n",
              "      fill: #D2E3FC;\n",
              "    }\n",
              "\n",
              "    [theme=dark] .colab-df-convert:hover {\n",
              "      background-color: #434B5C;\n",
              "      box-shadow: 0px 1px 3px 1px rgba(0, 0, 0, 0.15);\n",
              "      filter: drop-shadow(0px 1px 2px rgba(0, 0, 0, 0.3));\n",
              "      fill: #FFFFFF;\n",
              "    }\n",
              "  </style>\n",
              "\n",
              "      <script>\n",
              "        const buttonEl =\n",
              "          document.querySelector('#df-7846ef71-2382-4fd6-8323-25ffdcdf9e10 button.colab-df-convert');\n",
              "        buttonEl.style.display =\n",
              "          google.colab.kernel.accessAllowed ? 'block' : 'none';\n",
              "\n",
              "        async function convertToInteractive(key) {\n",
              "          const element = document.querySelector('#df-7846ef71-2382-4fd6-8323-25ffdcdf9e10');\n",
              "          const dataTable =\n",
              "            await google.colab.kernel.invokeFunction('convertToInteractive',\n",
              "                                                     [key], {});\n",
              "          if (!dataTable) return;\n",
              "\n",
              "          const docLinkHtml = 'Like what you see? Visit the ' +\n",
              "            '<a target=\"_blank\" href=https://colab.research.google.com/notebooks/data_table.ipynb>data table notebook</a>'\n",
              "            + ' to learn more about interactive tables.';\n",
              "          element.innerHTML = '';\n",
              "          dataTable['output_type'] = 'display_data';\n",
              "          await google.colab.output.renderOutput(dataTable, element);\n",
              "          const docLink = document.createElement('div');\n",
              "          docLink.innerHTML = docLinkHtml;\n",
              "          element.appendChild(docLink);\n",
              "        }\n",
              "      </script>\n",
              "    </div>\n",
              "  </div>\n",
              "  "
            ]
          },
          "metadata": {},
          "execution_count": 11
        }
      ]
    },
    {
      "cell_type": "code",
      "source": [
        "dr_d.shape"
      ],
      "metadata": {
        "colab": {
          "base_uri": "https://localhost:8080/"
        },
        "id": "18iUVsPzTpLV",
        "outputId": "f16904ba-052c-47bc-b44c-0681b68bd056"
      },
      "execution_count": 12,
      "outputs": [
        {
          "output_type": "execute_result",
          "data": {
            "text/plain": [
              "(7262, 2)"
            ]
          },
          "metadata": {},
          "execution_count": 12
        }
      ]
    },
    {
      "cell_type": "markdown",
      "source": [
        "8. Теперь поделаем EDA. Скоррелируем данные (если это можно так назвать), а именно добавим числовые разметки: 0 - легитимная транзакция, 1 - мошенничество или сомнительная.\n",
        "Делаем это потому, что классификатору лучше работать с числами. Сомнительные = 1 потому, что строим бинарный классификатор и лучше пусть сомнительные будут размечены как мошеннические, чтобы не пропустить подозрительный случай в проме.\n",
        "Вынесем это всё в новую колонку \"класс\""
      ],
      "metadata": {
        "id": "07KRZaULWnO0"
      }
    },
    {
      "cell_type": "code",
      "metadata": {
        "id": "hsV4Xn8E0gz6"
      },
      "source": [
        "resolution_map = {'G': 0, 'F': 1, 'S': 1}\n",
        "dr_d['class'] = dr_d.resolution.map(lambda a: resolution_map[a])"
      ],
      "execution_count": 13,
      "outputs": []
    },
    {
      "cell_type": "markdown",
      "source": [
        "11. Теперь возьмём очищенный датасет и посмотрим нужные нам колонки, на основе значений которых будем обучать модель"
      ],
      "metadata": {
        "id": "67PSlDauYEgj"
      }
    },
    {
      "cell_type": "code",
      "metadata": {
        "id": "mB-LaWzo5Ul-",
        "colab": {
          "base_uri": "https://localhost:8080/",
          "height": 423
        },
        "outputId": "0cc7ec5c-908b-4396-f85e-a4d4827a99cf"
      },
      "source": [
        "data = pd.read_csv(path_clear, header=0, names=['index', 'rec_user_id', 'mcc_group'])\n",
        "data"
      ],
      "execution_count": null,
      "outputs": [
        {
          "output_type": "execute_result",
          "data": {
            "text/plain": [
              "         index rec_user_id mcc_group\n",
              "0            1    12612360         R\n",
              "1            2    12612360         F\n",
              "2            3    12612360         Z\n",
              "3            4    12612360         R\n",
              "4            5    12612360         R\n",
              "...        ...         ...       ...\n",
              "269695  240128    57605853         Z\n",
              "269696  240129    57605853         C\n",
              "269697  240130    57605853         Z\n",
              "269698  240131     9626000         X\n",
              "269699  240132     9626000         R\n",
              "\n",
              "[269700 rows x 3 columns]"
            ],
            "text/html": [
              "\n",
              "  <div id=\"df-885f9796-7f9a-4fe6-9e30-9b501d440f75\">\n",
              "    <div class=\"colab-df-container\">\n",
              "      <div>\n",
              "<style scoped>\n",
              "    .dataframe tbody tr th:only-of-type {\n",
              "        vertical-align: middle;\n",
              "    }\n",
              "\n",
              "    .dataframe tbody tr th {\n",
              "        vertical-align: top;\n",
              "    }\n",
              "\n",
              "    .dataframe thead th {\n",
              "        text-align: right;\n",
              "    }\n",
              "</style>\n",
              "<table border=\"1\" class=\"dataframe\">\n",
              "  <thead>\n",
              "    <tr style=\"text-align: right;\">\n",
              "      <th></th>\n",
              "      <th>index</th>\n",
              "      <th>rec_user_id</th>\n",
              "      <th>mcc_group</th>\n",
              "    </tr>\n",
              "  </thead>\n",
              "  <tbody>\n",
              "    <tr>\n",
              "      <th>0</th>\n",
              "      <td>1</td>\n",
              "      <td>12612360</td>\n",
              "      <td>R</td>\n",
              "    </tr>\n",
              "    <tr>\n",
              "      <th>1</th>\n",
              "      <td>2</td>\n",
              "      <td>12612360</td>\n",
              "      <td>F</td>\n",
              "    </tr>\n",
              "    <tr>\n",
              "      <th>2</th>\n",
              "      <td>3</td>\n",
              "      <td>12612360</td>\n",
              "      <td>Z</td>\n",
              "    </tr>\n",
              "    <tr>\n",
              "      <th>3</th>\n",
              "      <td>4</td>\n",
              "      <td>12612360</td>\n",
              "      <td>R</td>\n",
              "    </tr>\n",
              "    <tr>\n",
              "      <th>4</th>\n",
              "      <td>5</td>\n",
              "      <td>12612360</td>\n",
              "      <td>R</td>\n",
              "    </tr>\n",
              "    <tr>\n",
              "      <th>...</th>\n",
              "      <td>...</td>\n",
              "      <td>...</td>\n",
              "      <td>...</td>\n",
              "    </tr>\n",
              "    <tr>\n",
              "      <th>269695</th>\n",
              "      <td>240128</td>\n",
              "      <td>57605853</td>\n",
              "      <td>Z</td>\n",
              "    </tr>\n",
              "    <tr>\n",
              "      <th>269696</th>\n",
              "      <td>240129</td>\n",
              "      <td>57605853</td>\n",
              "      <td>C</td>\n",
              "    </tr>\n",
              "    <tr>\n",
              "      <th>269697</th>\n",
              "      <td>240130</td>\n",
              "      <td>57605853</td>\n",
              "      <td>Z</td>\n",
              "    </tr>\n",
              "    <tr>\n",
              "      <th>269698</th>\n",
              "      <td>240131</td>\n",
              "      <td>9626000</td>\n",
              "      <td>X</td>\n",
              "    </tr>\n",
              "    <tr>\n",
              "      <th>269699</th>\n",
              "      <td>240132</td>\n",
              "      <td>9626000</td>\n",
              "      <td>R</td>\n",
              "    </tr>\n",
              "  </tbody>\n",
              "</table>\n",
              "<p>269700 rows × 3 columns</p>\n",
              "</div>\n",
              "      <button class=\"colab-df-convert\" onclick=\"convertToInteractive('df-885f9796-7f9a-4fe6-9e30-9b501d440f75')\"\n",
              "              title=\"Convert this dataframe to an interactive table.\"\n",
              "              style=\"display:none;\">\n",
              "        \n",
              "  <svg xmlns=\"http://www.w3.org/2000/svg\" height=\"24px\"viewBox=\"0 0 24 24\"\n",
              "       width=\"24px\">\n",
              "    <path d=\"M0 0h24v24H0V0z\" fill=\"none\"/>\n",
              "    <path d=\"M18.56 5.44l.94 2.06.94-2.06 2.06-.94-2.06-.94-.94-2.06-.94 2.06-2.06.94zm-11 1L8.5 8.5l.94-2.06 2.06-.94-2.06-.94L8.5 2.5l-.94 2.06-2.06.94zm10 10l.94 2.06.94-2.06 2.06-.94-2.06-.94-.94-2.06-.94 2.06-2.06.94z\"/><path d=\"M17.41 7.96l-1.37-1.37c-.4-.4-.92-.59-1.43-.59-.52 0-1.04.2-1.43.59L10.3 9.45l-7.72 7.72c-.78.78-.78 2.05 0 2.83L4 21.41c.39.39.9.59 1.41.59.51 0 1.02-.2 1.41-.59l7.78-7.78 2.81-2.81c.8-.78.8-2.07 0-2.86zM5.41 20L4 18.59l7.72-7.72 1.47 1.35L5.41 20z\"/>\n",
              "  </svg>\n",
              "      </button>\n",
              "      \n",
              "  <style>\n",
              "    .colab-df-container {\n",
              "      display:flex;\n",
              "      flex-wrap:wrap;\n",
              "      gap: 12px;\n",
              "    }\n",
              "\n",
              "    .colab-df-convert {\n",
              "      background-color: #E8F0FE;\n",
              "      border: none;\n",
              "      border-radius: 50%;\n",
              "      cursor: pointer;\n",
              "      display: none;\n",
              "      fill: #1967D2;\n",
              "      height: 32px;\n",
              "      padding: 0 0 0 0;\n",
              "      width: 32px;\n",
              "    }\n",
              "\n",
              "    .colab-df-convert:hover {\n",
              "      background-color: #E2EBFA;\n",
              "      box-shadow: 0px 1px 2px rgba(60, 64, 67, 0.3), 0px 1px 3px 1px rgba(60, 64, 67, 0.15);\n",
              "      fill: #174EA6;\n",
              "    }\n",
              "\n",
              "    [theme=dark] .colab-df-convert {\n",
              "      background-color: #3B4455;\n",
              "      fill: #D2E3FC;\n",
              "    }\n",
              "\n",
              "    [theme=dark] .colab-df-convert:hover {\n",
              "      background-color: #434B5C;\n",
              "      box-shadow: 0px 1px 3px 1px rgba(0, 0, 0, 0.15);\n",
              "      filter: drop-shadow(0px 1px 2px rgba(0, 0, 0, 0.3));\n",
              "      fill: #FFFFFF;\n",
              "    }\n",
              "  </style>\n",
              "\n",
              "      <script>\n",
              "        const buttonEl =\n",
              "          document.querySelector('#df-885f9796-7f9a-4fe6-9e30-9b501d440f75 button.colab-df-convert');\n",
              "        buttonEl.style.display =\n",
              "          google.colab.kernel.accessAllowed ? 'block' : 'none';\n",
              "\n",
              "        async function convertToInteractive(key) {\n",
              "          const element = document.querySelector('#df-885f9796-7f9a-4fe6-9e30-9b501d440f75');\n",
              "          const dataTable =\n",
              "            await google.colab.kernel.invokeFunction('convertToInteractive',\n",
              "                                                     [key], {});\n",
              "          if (!dataTable) return;\n",
              "\n",
              "          const docLinkHtml = 'Like what you see? Visit the ' +\n",
              "            '<a target=\"_blank\" href=https://colab.research.google.com/notebooks/data_table.ipynb>data table notebook</a>'\n",
              "            + ' to learn more about interactive tables.';\n",
              "          element.innerHTML = '';\n",
              "          dataTable['output_type'] = 'display_data';\n",
              "          await google.colab.output.renderOutput(dataTable, element);\n",
              "          const docLink = document.createElement('div');\n",
              "          docLink.innerHTML = docLinkHtml;\n",
              "          element.appendChild(docLink);\n",
              "        }\n",
              "      </script>\n",
              "    </div>\n",
              "  </div>\n",
              "  "
            ]
          },
          "metadata": {},
          "execution_count": 25
        }
      ]
    },
    {
      "cell_type": "markdown",
      "source": [
        "12. Посчитаем общее количество значений для каждой из категорий платежа, тем самым поймём, что за класстеры имеются, сколько их всего в каких количествах"
      ],
      "metadata": {
        "id": "8wCcqY68YUxk"
      }
    },
    {
      "cell_type": "code",
      "metadata": {
        "id": "3edWPfek5_Ak",
        "colab": {
          "base_uri": "https://localhost:8080/"
        },
        "outputId": "1b2ea3bc-cfa2-4df4-958f-424acaa9866f"
      },
      "source": [
        "data.mcc_group.value_counts()"
      ],
      "execution_count": null,
      "outputs": [
        {
          "output_type": "execute_result",
          "data": {
            "text/plain": [
              "R    86474\n",
              "C    82975\n",
              "U    52605\n",
              "Z    31511\n",
              "F    10366\n",
              "X     2546\n",
              "T     1182\n",
              "A      660\n",
              "H      354\n",
              "J      238\n",
              "Q      105\n",
              "O       31\n",
              "Name: mcc_group, dtype: int64"
            ]
          },
          "metadata": {},
          "execution_count": 26
        }
      ]
    },
    {
      "cell_type": "markdown",
      "source": [
        "13. Теперь смёрджим всё, что есть, транспонируем, воспользуемся сделанной корреляцией и посмотрим, что получилось"
      ],
      "metadata": {
        "id": "V4DAiFsdY2zY"
      }
    },
    {
      "cell_type": "code",
      "metadata": {
        "id": "7B2pIAHq6325",
        "colab": {
          "base_uri": "https://localhost:8080/",
          "height": 206
        },
        "outputId": "2b405cf8-3010-44ee-97f1-fe599f721ae8"
      },
      "source": [
        "oec_data = pd.pivot_table(data, index='rec_user_id',columns=['mcc_group'], values='index', aggfunc='count', fill_value=0)\n",
        "tg = pd.merge(oec_data, dr_d[['rec_user_id', 'class']], on='rec_user_id')\n",
        "tg.head()"
      ],
      "execution_count": null,
      "outputs": [
        {
          "output_type": "execute_result",
          "data": {
            "text/plain": [
              "  rec_user_id  A   C  F  H  J  O  Q   R  T   U  X   Z  class\n",
              "0   100017681  0   5  0  0  0  0  0  14  0   9  1  42      0\n",
              "1   100023450  0  23  0  0  0  0  0  31  0  19  0   2      0\n",
              "2   100031471  0   1  0  0  0  0  0   6  0   0  0   0      0\n",
              "3    10008487  0  24  6  0  0  0  0  21  0  41  1   7      0\n",
              "4    10009395  0   6  0  0  0  0  0  13  0  16  0   0      0"
            ],
            "text/html": [
              "\n",
              "  <div id=\"df-55ed950a-b184-4f14-8e44-a69201313d29\">\n",
              "    <div class=\"colab-df-container\">\n",
              "      <div>\n",
              "<style scoped>\n",
              "    .dataframe tbody tr th:only-of-type {\n",
              "        vertical-align: middle;\n",
              "    }\n",
              "\n",
              "    .dataframe tbody tr th {\n",
              "        vertical-align: top;\n",
              "    }\n",
              "\n",
              "    .dataframe thead th {\n",
              "        text-align: right;\n",
              "    }\n",
              "</style>\n",
              "<table border=\"1\" class=\"dataframe\">\n",
              "  <thead>\n",
              "    <tr style=\"text-align: right;\">\n",
              "      <th></th>\n",
              "      <th>rec_user_id</th>\n",
              "      <th>A</th>\n",
              "      <th>C</th>\n",
              "      <th>F</th>\n",
              "      <th>H</th>\n",
              "      <th>J</th>\n",
              "      <th>O</th>\n",
              "      <th>Q</th>\n",
              "      <th>R</th>\n",
              "      <th>T</th>\n",
              "      <th>U</th>\n",
              "      <th>X</th>\n",
              "      <th>Z</th>\n",
              "      <th>class</th>\n",
              "    </tr>\n",
              "  </thead>\n",
              "  <tbody>\n",
              "    <tr>\n",
              "      <th>0</th>\n",
              "      <td>100017681</td>\n",
              "      <td>0</td>\n",
              "      <td>5</td>\n",
              "      <td>0</td>\n",
              "      <td>0</td>\n",
              "      <td>0</td>\n",
              "      <td>0</td>\n",
              "      <td>0</td>\n",
              "      <td>14</td>\n",
              "      <td>0</td>\n",
              "      <td>9</td>\n",
              "      <td>1</td>\n",
              "      <td>42</td>\n",
              "      <td>0</td>\n",
              "    </tr>\n",
              "    <tr>\n",
              "      <th>1</th>\n",
              "      <td>100023450</td>\n",
              "      <td>0</td>\n",
              "      <td>23</td>\n",
              "      <td>0</td>\n",
              "      <td>0</td>\n",
              "      <td>0</td>\n",
              "      <td>0</td>\n",
              "      <td>0</td>\n",
              "      <td>31</td>\n",
              "      <td>0</td>\n",
              "      <td>19</td>\n",
              "      <td>0</td>\n",
              "      <td>2</td>\n",
              "      <td>0</td>\n",
              "    </tr>\n",
              "    <tr>\n",
              "      <th>2</th>\n",
              "      <td>100031471</td>\n",
              "      <td>0</td>\n",
              "      <td>1</td>\n",
              "      <td>0</td>\n",
              "      <td>0</td>\n",
              "      <td>0</td>\n",
              "      <td>0</td>\n",
              "      <td>0</td>\n",
              "      <td>6</td>\n",
              "      <td>0</td>\n",
              "      <td>0</td>\n",
              "      <td>0</td>\n",
              "      <td>0</td>\n",
              "      <td>0</td>\n",
              "    </tr>\n",
              "    <tr>\n",
              "      <th>3</th>\n",
              "      <td>10008487</td>\n",
              "      <td>0</td>\n",
              "      <td>24</td>\n",
              "      <td>6</td>\n",
              "      <td>0</td>\n",
              "      <td>0</td>\n",
              "      <td>0</td>\n",
              "      <td>0</td>\n",
              "      <td>21</td>\n",
              "      <td>0</td>\n",
              "      <td>41</td>\n",
              "      <td>1</td>\n",
              "      <td>7</td>\n",
              "      <td>0</td>\n",
              "    </tr>\n",
              "    <tr>\n",
              "      <th>4</th>\n",
              "      <td>10009395</td>\n",
              "      <td>0</td>\n",
              "      <td>6</td>\n",
              "      <td>0</td>\n",
              "      <td>0</td>\n",
              "      <td>0</td>\n",
              "      <td>0</td>\n",
              "      <td>0</td>\n",
              "      <td>13</td>\n",
              "      <td>0</td>\n",
              "      <td>16</td>\n",
              "      <td>0</td>\n",
              "      <td>0</td>\n",
              "      <td>0</td>\n",
              "    </tr>\n",
              "  </tbody>\n",
              "</table>\n",
              "</div>\n",
              "      <button class=\"colab-df-convert\" onclick=\"convertToInteractive('df-55ed950a-b184-4f14-8e44-a69201313d29')\"\n",
              "              title=\"Convert this dataframe to an interactive table.\"\n",
              "              style=\"display:none;\">\n",
              "        \n",
              "  <svg xmlns=\"http://www.w3.org/2000/svg\" height=\"24px\"viewBox=\"0 0 24 24\"\n",
              "       width=\"24px\">\n",
              "    <path d=\"M0 0h24v24H0V0z\" fill=\"none\"/>\n",
              "    <path d=\"M18.56 5.44l.94 2.06.94-2.06 2.06-.94-2.06-.94-.94-2.06-.94 2.06-2.06.94zm-11 1L8.5 8.5l.94-2.06 2.06-.94-2.06-.94L8.5 2.5l-.94 2.06-2.06.94zm10 10l.94 2.06.94-2.06 2.06-.94-2.06-.94-.94-2.06-.94 2.06-2.06.94z\"/><path d=\"M17.41 7.96l-1.37-1.37c-.4-.4-.92-.59-1.43-.59-.52 0-1.04.2-1.43.59L10.3 9.45l-7.72 7.72c-.78.78-.78 2.05 0 2.83L4 21.41c.39.39.9.59 1.41.59.51 0 1.02-.2 1.41-.59l7.78-7.78 2.81-2.81c.8-.78.8-2.07 0-2.86zM5.41 20L4 18.59l7.72-7.72 1.47 1.35L5.41 20z\"/>\n",
              "  </svg>\n",
              "      </button>\n",
              "      \n",
              "  <style>\n",
              "    .colab-df-container {\n",
              "      display:flex;\n",
              "      flex-wrap:wrap;\n",
              "      gap: 12px;\n",
              "    }\n",
              "\n",
              "    .colab-df-convert {\n",
              "      background-color: #E8F0FE;\n",
              "      border: none;\n",
              "      border-radius: 50%;\n",
              "      cursor: pointer;\n",
              "      display: none;\n",
              "      fill: #1967D2;\n",
              "      height: 32px;\n",
              "      padding: 0 0 0 0;\n",
              "      width: 32px;\n",
              "    }\n",
              "\n",
              "    .colab-df-convert:hover {\n",
              "      background-color: #E2EBFA;\n",
              "      box-shadow: 0px 1px 2px rgba(60, 64, 67, 0.3), 0px 1px 3px 1px rgba(60, 64, 67, 0.15);\n",
              "      fill: #174EA6;\n",
              "    }\n",
              "\n",
              "    [theme=dark] .colab-df-convert {\n",
              "      background-color: #3B4455;\n",
              "      fill: #D2E3FC;\n",
              "    }\n",
              "\n",
              "    [theme=dark] .colab-df-convert:hover {\n",
              "      background-color: #434B5C;\n",
              "      box-shadow: 0px 1px 3px 1px rgba(0, 0, 0, 0.15);\n",
              "      filter: drop-shadow(0px 1px 2px rgba(0, 0, 0, 0.3));\n",
              "      fill: #FFFFFF;\n",
              "    }\n",
              "  </style>\n",
              "\n",
              "      <script>\n",
              "        const buttonEl =\n",
              "          document.querySelector('#df-55ed950a-b184-4f14-8e44-a69201313d29 button.colab-df-convert');\n",
              "        buttonEl.style.display =\n",
              "          google.colab.kernel.accessAllowed ? 'block' : 'none';\n",
              "\n",
              "        async function convertToInteractive(key) {\n",
              "          const element = document.querySelector('#df-55ed950a-b184-4f14-8e44-a69201313d29');\n",
              "          const dataTable =\n",
              "            await google.colab.kernel.invokeFunction('convertToInteractive',\n",
              "                                                     [key], {});\n",
              "          if (!dataTable) return;\n",
              "\n",
              "          const docLinkHtml = 'Like what you see? Visit the ' +\n",
              "            '<a target=\"_blank\" href=https://colab.research.google.com/notebooks/data_table.ipynb>data table notebook</a>'\n",
              "            + ' to learn more about interactive tables.';\n",
              "          element.innerHTML = '';\n",
              "          dataTable['output_type'] = 'display_data';\n",
              "          await google.colab.output.renderOutput(dataTable, element);\n",
              "          const docLink = document.createElement('div');\n",
              "          docLink.innerHTML = docLinkHtml;\n",
              "          element.appendChild(docLink);\n",
              "        }\n",
              "      </script>\n",
              "    </div>\n",
              "  </div>\n",
              "  "
            ]
          },
          "metadata": {},
          "execution_count": 27
        }
      ]
    },
    {
      "cell_type": "markdown",
      "source": [
        "14. Посчитаем общее количество: фрод/ не фрод. Как видно из чисел, удалось немного сбалансировать данные"
      ],
      "metadata": {
        "id": "fsUgIVXGZaPF"
      }
    },
    {
      "cell_type": "code",
      "metadata": {
        "id": "MfeshRy187j6",
        "colab": {
          "base_uri": "https://localhost:8080/"
        },
        "outputId": "d66c6836-4577-45eb-e268-38c3ffb31c11"
      },
      "source": [
        "tg[tg['class']!=0]\n",
        "tg['class'].value_counts()"
      ],
      "execution_count": null,
      "outputs": [
        {
          "output_type": "execute_result",
          "data": {
            "text/plain": [
              "0    6802\n",
              "1      47\n",
              "Name: class, dtype: int64"
            ]
          },
          "metadata": {},
          "execution_count": 28
        }
      ]
    },
    {
      "cell_type": "markdown",
      "source": [
        "15. Импортируем необходимые библиотеки для обучения модели и её оценки при помощи метрики F1 а также матрицы ошибок, демонстрирующей число предсказанных мошеннических транзакций и число ложноположительных срабатываний "
      ],
      "metadata": {
        "id": "tOagF-s4Xluw"
      }
    },
    {
      "cell_type": "code",
      "metadata": {
        "id": "o2VYF2sfAjrX"
      },
      "source": [
        "from sklearn.model_selection import train_test_split\n",
        "\n",
        "from sklearn.metrics import confusion_matrix\n",
        "from sklearn.metrics import classification_report"
      ],
      "execution_count": null,
      "outputs": []
    },
    {
      "cell_type": "markdown",
      "source": [
        "16. Произведём разбиение на обучающий и тестовый набор. Уберём для тестового поле, отвечающее за статус транзакции. По безлайну возьмём классическое разделение данных обущающий набор:тестовому набору = 70:30"
      ],
      "metadata": {
        "id": "Eyr6SguBZnL8"
      }
    },
    {
      "cell_type": "code",
      "metadata": {
        "id": "SqMRuV1T_b8r"
      },
      "source": [
        "X_data = tg.drop(['class', 'rec_user_id'], axis=1)\n",
        "y_data = tg['class']"
      ],
      "execution_count": null,
      "outputs": []
    },
    {
      "cell_type": "code",
      "metadata": {
        "id": "hJ-iVYNEADpN"
      },
      "source": [
        "X_train, X_test, y_train, y_test = train_test_split(X_data, y_data, test_size=0.3, random_state=333)"
      ],
      "execution_count": null,
      "outputs": []
    },
    {
      "cell_type": "markdown",
      "source": [
        "17. Посмотрим, как разделилось (какое количество чего у нас содежится)с учётом выбранного случайным образом значения random_state=333."
      ],
      "metadata": {
        "id": "MrUseMHLag0f"
      }
    },
    {
      "cell_type": "code",
      "metadata": {
        "id": "KVGM1utoAb1b",
        "colab": {
          "base_uri": "https://localhost:8080/"
        },
        "outputId": "3d89d754-9217-4e76-c867-cab8d92a4584"
      },
      "source": [
        "print(X_test.shape)\n",
        "print(y_train.shape)"
      ],
      "execution_count": null,
      "outputs": [
        {
          "output_type": "stream",
          "name": "stdout",
          "text": [
            "(2055, 12)\n",
            "(4794,)\n"
          ]
        }
      ]
    },
    {
      "cell_type": "markdown",
      "metadata": {
        "id": "UwSCxYs91euQ"
      },
      "source": [
        "18. Произведём обученик первым методом случайного леса, выбранным мной как безлайновым. Данный метод был выбран исходя из того, что логически он больше подходит для выявления фрода исходя из его особенности выполнять предсказания используя условия и граничные значения "
      ]
    },
    {
      "cell_type": "code",
      "metadata": {
        "id": "B5EGzkxxA0L_"
      },
      "source": [
        "from sklearn.ensemble import RandomForestClassifier\n",
        "\n",
        "rf = RandomForestClassifier(class_weight={0: 1, 1: 15})\n",
        "rf2 = rf.fit(X_train, y_train)"
      ],
      "execution_count": null,
      "outputs": []
    },
    {
      "cell_type": "markdown",
      "source": [
        "19. Посмотрим, что есть, исходя из количества записей класса 0 и 1."
      ],
      "metadata": {
        "id": "5O1kuIEsa3vK"
      }
    },
    {
      "cell_type": "code",
      "metadata": {
        "id": "WhQQ6vj-Cml8",
        "colab": {
          "base_uri": "https://localhost:8080/"
        },
        "outputId": "2b4e5ece-b8e5-4e9d-bca5-7961d8a9a9e3"
      },
      "source": [
        "y_pred = pd.Series(rf2.predict(X_test), index=X_test.index)\n",
        "y_test.value_counts()"
      ],
      "execution_count": null,
      "outputs": [
        {
          "output_type": "execute_result",
          "data": {
            "text/plain": [
              "0    2038\n",
              "1      17\n",
              "Name: class, dtype: int64"
            ]
          },
          "metadata": {},
          "execution_count": 33
        }
      ]
    },
    {
      "cell_type": "markdown",
      "source": [
        "20. Построим матрицу ошибок классификатора. \n",
        "Как видим, он нашёл две фрод транзакции, но число ложно положительных прям большое (15 штук). От этого у нас хорошая мера F1 для легитимных транзакций (1.0 - а реально ли это вообще) и слишком маленькая для фрода (0,17). Попробуем улучшить эту меру за счёт обучения различными методами. Перебором параметров (ручным методом, не при помощи оптимизации гиперпараметров) сейчас были выбраны наиболее удачные значения"
      ],
      "metadata": {
        "id": "p19VTc40bkjh"
      }
    },
    {
      "cell_type": "code",
      "metadata": {
        "id": "sq-lR7EXFFp8",
        "colab": {
          "base_uri": "https://localhost:8080/"
        },
        "outputId": "a5a9568a-9ffd-4672-ae6a-fe8a52b10739"
      },
      "source": [
        "confusion_matrix(y_test, y_pred)"
      ],
      "execution_count": null,
      "outputs": [
        {
          "output_type": "execute_result",
          "data": {
            "text/plain": [
              "array([[2033,    5],\n",
              "       [  15,    2]])"
            ]
          },
          "metadata": {},
          "execution_count": 34
        }
      ]
    },
    {
      "cell_type": "code",
      "metadata": {
        "id": "nuksBSwiFLsc",
        "colab": {
          "base_uri": "https://localhost:8080/"
        },
        "outputId": "7e1fcf79-ac28-4aa0-9aa0-d83f8f57dda3"
      },
      "source": [
        "target_names = ['Legitime', 'Fraud']\n",
        "print(classification_report(y_test, y_pred, target_names=target_names))"
      ],
      "execution_count": null,
      "outputs": [
        {
          "output_type": "stream",
          "name": "stdout",
          "text": [
            "              precision    recall  f1-score   support\n",
            "\n",
            "    Legitime       0.99      1.00      1.00      2038\n",
            "       Fraud       0.29      0.12      0.17        17\n",
            "\n",
            "    accuracy                           0.99      2055\n",
            "   macro avg       0.64      0.56      0.58      2055\n",
            "weighted avg       0.99      0.99      0.99      2055\n",
            "\n"
          ]
        }
      ]
    },
    {
      "cell_type": "markdown",
      "source": [
        "21. Узнаем индексы тех строк, которые модель определила как мошенничество"
      ],
      "metadata": {
        "id": "IBrzMtdsduEZ"
      }
    },
    {
      "cell_type": "code",
      "metadata": {
        "id": "DK86astKstKf",
        "colab": {
          "base_uri": "https://localhost:8080/"
        },
        "outputId": "f0ff6eb8-5c7c-4a58-a0b7-103d2257fd47"
      },
      "source": [
        "#Testing\n",
        "y_pred[y_pred == 1].index.intersection(y_test[y_test == 1].index)"
      ],
      "execution_count": null,
      "outputs": [
        {
          "output_type": "execute_result",
          "data": {
            "text/plain": [
              "Int64Index([6547, 5070], dtype='int64')"
            ]
          },
          "metadata": {},
          "execution_count": 36
        }
      ]
    },
    {
      "cell_type": "markdown",
      "metadata": {
        "id": "XtqXiVt9g-0H"
      },
      "source": [
        "22. Теперь применим для обучения метод Дерево решений и посмотрим, что выйдет из этого. \n",
        "Но в этот раз сделаем соотношение обучающей и тестовой выборки (test_size) не 0,3 а 0,2"
      ]
    },
    {
      "cell_type": "code",
      "metadata": {
        "colab": {
          "base_uri": "https://localhost:8080/"
        },
        "id": "Rs8_QKu7eRXr",
        "outputId": "b93de3ff-df89-4b0d-f4e4-e5c8f4d40453"
      },
      "source": [
        "from sklearn.tree import DecisionTreeClassifier\n",
        "\n",
        "X_train_2, X_test_2, y_train_2, y_test_2 = train_test_split(X_data, y_data, test_size=0.2, random_state=333)\n",
        "\n",
        "tree = DecisionTreeClassifier(criterion='gini',min_samples_leaf=60,max_depth=120,random_state=280, class_weight={0: 1, 1: 15})\n",
        "clf2 = tree.fit(X_train_2, y_train_2)\n",
        "\n",
        "y_pred_2 = pd.Series(clf2.predict(X_test_2), index=X_test_2.index)\n",
        "y_test_2.value_counts()"
      ],
      "execution_count": null,
      "outputs": [
        {
          "output_type": "execute_result",
          "data": {
            "text/plain": [
              "0    1358\n",
              "1      12\n",
              "Name: class, dtype: int64"
            ]
          },
          "metadata": {},
          "execution_count": 37
        }
      ]
    },
    {
      "cell_type": "markdown",
      "source": [
        "23. Построим матрицу и посмотрим, что она покажет\n",
        "В этот раз, модель нашла больше фрод транзакций, однако F1 уменьшилась с 0,17 до 0,15"
      ],
      "metadata": {
        "id": "F97XESEceAjW"
      }
    },
    {
      "cell_type": "code",
      "metadata": {
        "colab": {
          "base_uri": "https://localhost:8080/"
        },
        "id": "7lKQ69EMe47_",
        "outputId": "85f95d42-66b1-469a-8001-6faab381c765"
      },
      "source": [
        "confusion_matrix(y_test_2, y_pred_2)"
      ],
      "execution_count": null,
      "outputs": [
        {
          "output_type": "execute_result",
          "data": {
            "text/plain": [
              "array([[1333,   25],\n",
              "       [   9,    3]])"
            ]
          },
          "metadata": {},
          "execution_count": 38
        }
      ]
    },
    {
      "cell_type": "code",
      "metadata": {
        "colab": {
          "base_uri": "https://localhost:8080/"
        },
        "id": "OCP9IWmchGhW",
        "outputId": "64b147e3-8db6-46c5-9ff4-3ff7a55f66ff"
      },
      "source": [
        "target_names = ['Legitime', 'Fraud']\n",
        "print(classification_report(y_test_2, y_pred_2, target_names=target_names))"
      ],
      "execution_count": null,
      "outputs": [
        {
          "output_type": "stream",
          "name": "stdout",
          "text": [
            "              precision    recall  f1-score   support\n",
            "\n",
            "    Legitime       0.99      0.98      0.99      1358\n",
            "       Fraud       0.11      0.25      0.15        12\n",
            "\n",
            "    accuracy                           0.98      1370\n",
            "   macro avg       0.55      0.62      0.57      1370\n",
            "weighted avg       0.99      0.98      0.98      1370\n",
            "\n"
          ]
        }
      ]
    },
    {
      "cell_type": "markdown",
      "source": [
        "24. Опять посмотрим, какие платежи классификатор определил как фрод. Как и в прошлый раз, это строки с индексом 6547 и 5070, но новой оказалась 714. В самом конце выполнения данной работы проверим, так ли это на самом деле\n"
      ],
      "metadata": {
        "id": "JCQ8Ux6KfEn8"
      }
    },
    {
      "cell_type": "code",
      "metadata": {
        "colab": {
          "base_uri": "https://localhost:8080/"
        },
        "id": "BCIWUjrpetPn",
        "outputId": "fcb60b95-78da-4644-e2c7-d6a25f7f3bbe"
      },
      "source": [
        "#Testing\n",
        "y_pred_2[y_pred_2 == 1].index.intersection(y_test[y_test == 1].index)"
      ],
      "execution_count": null,
      "outputs": [
        {
          "output_type": "execute_result",
          "data": {
            "text/plain": [
              "Int64Index([6547, 714, 5070], dtype='int64')"
            ]
          },
          "metadata": {},
          "execution_count": 29
        }
      ]
    },
    {
      "cell_type": "markdown",
      "metadata": {
        "id": "aaIgxbykhCp_"
      },
      "source": [
        "25. Теперь попробуем Логистическую регрессию. По мне так, метод не очень логичный для данной задачи, однако он классика. Интересно, что получится. Соотношение обучающей и тестовой оставим 80:20"
      ]
    },
    {
      "cell_type": "code",
      "metadata": {
        "colab": {
          "base_uri": "https://localhost:8080/"
        },
        "id": "XUzD5S1HgC8p",
        "outputId": "e4e8ccc3-a1cd-4a30-e6ba-1fcbe94fc614"
      },
      "source": [
        "from sklearn.linear_model import LogisticRegression\n",
        "\n",
        "X_train_3, X_test_3, y_train_3, y_test_3 = train_test_split(X_data, y_data, test_size=0.2, random_state=333)\n",
        "\n",
        "lg =  LogisticRegression(solver='lbfgs', random_state=63, class_weight={0: 1, 1: 15})\n",
        "clf3 = lg.fit(X_train_3, y_train_3)\n",
        "\n",
        "y_pred_3 = pd.Series(clf3.predict(X_test_3), index=X_test_3.index)\n",
        "y_test_3.value_counts()"
      ],
      "execution_count": null,
      "outputs": [
        {
          "output_type": "stream",
          "name": "stderr",
          "text": [
            "/usr/local/lib/python3.8/dist-packages/sklearn/linear_model/_logistic.py:814: ConvergenceWarning: lbfgs failed to converge (status=1):\n",
            "STOP: TOTAL NO. of ITERATIONS REACHED LIMIT.\n",
            "\n",
            "Increase the number of iterations (max_iter) or scale the data as shown in:\n",
            "    https://scikit-learn.org/stable/modules/preprocessing.html\n",
            "Please also refer to the documentation for alternative solver options:\n",
            "    https://scikit-learn.org/stable/modules/linear_model.html#logistic-regression\n",
            "  n_iter_i = _check_optimize_result(\n"
          ]
        },
        {
          "output_type": "execute_result",
          "data": {
            "text/plain": [
              "0    1358\n",
              "1      12\n",
              "Name: class, dtype: int64"
            ]
          },
          "metadata": {},
          "execution_count": 41
        }
      ]
    },
    {
      "cell_type": "markdown",
      "source": [
        "26. В целом, метрики качества идентичны случайному лесу, но интересно глянуть, что он нашёл в этот раз как мошенничество\n",
        "Также, можно попробовать переобучить на другом разделении выборки\n"
      ],
      "metadata": {
        "id": "1qHnRFS3ggJZ"
      }
    },
    {
      "cell_type": "code",
      "metadata": {
        "colab": {
          "base_uri": "https://localhost:8080/"
        },
        "id": "l3W9HKXsgGio",
        "outputId": "b029eccf-d205-4b74-8fb1-90436c5f08ec"
      },
      "source": [
        "confusion_matrix(y_test_3, y_pred_3)"
      ],
      "execution_count": null,
      "outputs": [
        {
          "output_type": "execute_result",
          "data": {
            "text/plain": [
              "array([[1345,   13],\n",
              "       [  10,    2]])"
            ]
          },
          "metadata": {},
          "execution_count": 42
        }
      ]
    },
    {
      "cell_type": "code",
      "metadata": {
        "colab": {
          "base_uri": "https://localhost:8080/"
        },
        "id": "XfgHkSiMhP0k",
        "outputId": "48fa5d78-51c5-4fbc-87ca-0f40857af71d"
      },
      "source": [
        "target_names = ['Legitime', 'Fraud']\n",
        "print(classification_report(y_test_3, y_pred_3, target_names=target_names))"
      ],
      "execution_count": null,
      "outputs": [
        {
          "output_type": "stream",
          "name": "stdout",
          "text": [
            "              precision    recall  f1-score   support\n",
            "\n",
            "    Legitime       0.99      0.99      0.99      1358\n",
            "       Fraud       0.13      0.17      0.15        12\n",
            "\n",
            "    accuracy                           0.98      1370\n",
            "   macro avg       0.56      0.58      0.57      1370\n",
            "weighted avg       0.99      0.98      0.98      1370\n",
            "\n"
          ]
        }
      ]
    },
    {
      "cell_type": "markdown",
      "source": [
        "27. Классификатор нашёл всё те же значений, что уже были ранее. В самом конце задания проверим все имеющиеся значения на размеченном наборе данных"
      ],
      "metadata": {
        "id": "noLuNrBfg4kJ"
      }
    },
    {
      "cell_type": "code",
      "metadata": {
        "id": "-NvY9nqjswdT",
        "colab": {
          "base_uri": "https://localhost:8080/"
        },
        "outputId": "a0feff07-3220-4402-a838-8abf0f4d12f7"
      },
      "source": [
        "#Testing\n",
        "y_pred_3[y_pred_3 == 1].index.intersection(y_test_3[y_test_3 == 1].index)"
      ],
      "execution_count": null,
      "outputs": [
        {
          "output_type": "execute_result",
          "data": {
            "text/plain": [
              "Int64Index([6547, 714], dtype='int64')"
            ]
          },
          "metadata": {},
          "execution_count": 45
        }
      ]
    },
    {
      "cell_type": "markdown",
      "metadata": {
        "id": "gmGxDdK3k6zK"
      },
      "source": [
        "28. Применим теперь метод K-ближайших соседей. Для характера балансировки данных, имеющейся в данном наборе, не самый удачный метод за счёт его кластеризации. Поэтому аккуратненько выберем значение ближайщих соседей = 3 (n_neighbors), поскольку 1 - будет маловато и неточно, а 2 может вызвать неоднозначность. Соотношение обучающей к тестовой оставим 80:20\n"
      ]
    },
    {
      "cell_type": "code",
      "metadata": {
        "id": "68odRuObk6Cr"
      },
      "source": [
        "from sklearn.neighbors import KNeighborsClassifier\n",
        "\n",
        "X_train_4, X_test_4, y_train_4, y_test_4 = train_test_split(X_data, y_data, test_size=0.2, random_state=333)\n",
        "\n",
        "neigh = KNeighborsClassifier(n_neighbors=3, p=2)\n",
        "clf4 = neigh.fit(X_train_4, y_train_4)\n",
        "\n"
      ],
      "execution_count": null,
      "outputs": []
    },
    {
      "cell_type": "markdown",
      "source": [
        "29. Посмотрим снова метрики качества через матрицу. В данном случае, значения метрик не стали лучше"
      ],
      "metadata": {
        "id": "cTwq41S3h73H"
      }
    },
    {
      "cell_type": "code",
      "metadata": {
        "colab": {
          "base_uri": "https://localhost:8080/"
        },
        "id": "fEVUfy0Ql-G3",
        "outputId": "4b0ff764-0b1a-4027-93b8-50dd50d3bc56"
      },
      "source": [
        "y_pred_4 = pd.Series(clf4.predict(X_test_4), index=X_test_4.index)\n",
        "y_test_4.value_counts()"
      ],
      "execution_count": null,
      "outputs": [
        {
          "output_type": "execute_result",
          "data": {
            "text/plain": [
              "0    1358\n",
              "1      12\n",
              "Name: class, dtype: int64"
            ]
          },
          "metadata": {},
          "execution_count": 47
        }
      ]
    },
    {
      "cell_type": "code",
      "metadata": {
        "colab": {
          "base_uri": "https://localhost:8080/"
        },
        "id": "eDNpkK8DnfjX",
        "outputId": "c873bf3c-191e-49b2-b09c-46a6a84982da"
      },
      "source": [
        "confusion_matrix(y_test_4, y_pred_4)"
      ],
      "execution_count": null,
      "outputs": [
        {
          "output_type": "execute_result",
          "data": {
            "text/plain": [
              "array([[1358,    0],\n",
              "       [  11,    1]])"
            ]
          },
          "metadata": {},
          "execution_count": 48
        }
      ]
    },
    {
      "cell_type": "code",
      "metadata": {
        "colab": {
          "base_uri": "https://localhost:8080/"
        },
        "id": "TkXd9JuUnmBW",
        "outputId": "e510130b-b672-4b65-b512-d9b9d13ae169"
      },
      "source": [
        "target_names = ['Legitime', 'Fraud']\n",
        "print(classification_report(y_test_4, y_pred_4, target_names=target_names))"
      ],
      "execution_count": null,
      "outputs": [
        {
          "output_type": "stream",
          "name": "stdout",
          "text": [
            "              precision    recall  f1-score   support\n",
            "\n",
            "    Legitime       0.99      1.00      1.00      1358\n",
            "       Fraud       1.00      0.08      0.15        12\n",
            "\n",
            "    accuracy                           0.99      1370\n",
            "   macro avg       1.00      0.54      0.57      1370\n",
            "weighted avg       0.99      0.99      0.99      1370\n",
            "\n"
          ]
        }
      ]
    },
    {
      "cell_type": "code",
      "metadata": {
        "id": "NVBg8JOVs2DJ",
        "colab": {
          "base_uri": "https://localhost:8080/"
        },
        "outputId": "db4348dd-35fa-4090-a768-bb3b9e8eee0b"
      },
      "source": [
        "#Testing\n",
        "y_pred_4[y_pred_4 == 1].index.intersection(y_test_3[y_test_3 == 1].index)"
      ],
      "execution_count": null,
      "outputs": [
        {
          "output_type": "execute_result",
          "data": {
            "text/plain": [
              "Int64Index([6547], dtype='int64')"
            ]
          },
          "metadata": {},
          "execution_count": 51
        }
      ]
    },
    {
      "cell_type": "markdown",
      "metadata": {
        "id": "wS2zJeYgmSF2"
      },
      "source": [
        "30. Теперь попробуем воспольщоваться преимуществами и недостатками использованных методов при помощи Ансамблей. \n",
        "Ансамблиевые методы являются более ресурсоёмкими, однако есть надежда, что за счёт объединения подходов и повторного переобучения на ранее допущенных ошибках мы улучшим значения метрик для нашей задачи"
      ]
    },
    {
      "cell_type": "code",
      "metadata": {
        "id": "VUOoXRNJmRDO",
        "colab": {
          "base_uri": "https://localhost:8080/"
        },
        "outputId": "d4a27dba-1965-452d-ba6c-e7b555ca6bc7"
      },
      "source": [
        "!pip install --upgrade pip\n",
        "!pip install imutils\n",
        "!pip install opencv-python\n",
        "!pip install --upgrade scikit-learn==0.23.0"
      ],
      "execution_count": null,
      "outputs": [
        {
          "output_type": "stream",
          "name": "stdout",
          "text": [
            "Looking in indexes: https://pypi.org/simple, https://us-python.pkg.dev/colab-wheels/public/simple/\n",
            "Requirement already satisfied: pip in /usr/local/lib/python3.8/dist-packages (22.0.4)\n",
            "Collecting pip\n",
            "  Downloading pip-23.0-py3-none-any.whl (2.1 MB)\n",
            "\u001b[2K     \u001b[90m━━━━━━━━━━━━━━━━━━━━━━━━━━━━━━━━━━━━━━━━\u001b[0m \u001b[32m2.1/2.1 MB\u001b[0m \u001b[31m43.0 MB/s\u001b[0m eta \u001b[36m0:00:00\u001b[0m\n",
            "\u001b[?25hInstalling collected packages: pip\n",
            "  Attempting uninstall: pip\n",
            "    Found existing installation: pip 22.0.4\n",
            "    Uninstalling pip-22.0.4:\n",
            "      Successfully uninstalled pip-22.0.4\n",
            "Successfully installed pip-23.0\n",
            "Looking in indexes: https://pypi.org/simple, https://us-python.pkg.dev/colab-wheels/public/simple/\n",
            "Requirement already satisfied: imutils in /usr/local/lib/python3.8/dist-packages (0.5.4)\n",
            "\u001b[33mWARNING: Running pip as the 'root' user can result in broken permissions and conflicting behaviour with the system package manager. It is recommended to use a virtual environment instead: https://pip.pypa.io/warnings/venv\u001b[0m\u001b[33m\n",
            "\u001b[0mLooking in indexes: https://pypi.org/simple, https://us-python.pkg.dev/colab-wheels/public/simple/\n",
            "Requirement already satisfied: opencv-python in /usr/local/lib/python3.8/dist-packages (4.6.0.66)\n",
            "Requirement already satisfied: numpy>=1.17.3 in /usr/local/lib/python3.8/dist-packages (from opencv-python) (1.21.6)\n",
            "\u001b[33mWARNING: Running pip as the 'root' user can result in broken permissions and conflicting behaviour with the system package manager. It is recommended to use a virtual environment instead: https://pip.pypa.io/warnings/venv\u001b[0m\u001b[33m\n",
            "\u001b[0mLooking in indexes: https://pypi.org/simple, https://us-python.pkg.dev/colab-wheels/public/simple/\n",
            "Collecting scikit-learn==0.23.0\n",
            "  Downloading scikit_learn-0.23.0-cp38-cp38-manylinux1_x86_64.whl (7.2 MB)\n",
            "\u001b[2K     \u001b[90m━━━━━━━━━━━━━━━━━━━━━━━━━━━━━━━━━━━━━━━━\u001b[0m \u001b[32m7.2/7.2 MB\u001b[0m \u001b[31m75.8 MB/s\u001b[0m eta \u001b[36m0:00:00\u001b[0m\n",
            "\u001b[?25hRequirement already satisfied: joblib>=0.11 in /usr/local/lib/python3.8/dist-packages (from scikit-learn==0.23.0) (1.2.0)\n",
            "Requirement already satisfied: numpy>=1.13.3 in /usr/local/lib/python3.8/dist-packages (from scikit-learn==0.23.0) (1.21.6)\n",
            "Requirement already satisfied: threadpoolctl>=2.0.0 in /usr/local/lib/python3.8/dist-packages (from scikit-learn==0.23.0) (3.1.0)\n",
            "Requirement already satisfied: scipy>=0.19.1 in /usr/local/lib/python3.8/dist-packages (from scikit-learn==0.23.0) (1.7.3)\n",
            "Installing collected packages: scikit-learn\n",
            "  Attempting uninstall: scikit-learn\n",
            "    Found existing installation: scikit-learn 1.0.2\n",
            "    Uninstalling scikit-learn-1.0.2:\n",
            "      Successfully uninstalled scikit-learn-1.0.2\n",
            "\u001b[31mERROR: pip's dependency resolver does not currently take into account all the packages that are installed. This behaviour is the source of the following dependency conflicts.\n",
            "yellowbrick 1.5 requires scikit-learn>=1.0.0, but you have scikit-learn 0.23.0 which is incompatible.\n",
            "imbalanced-learn 0.8.1 requires scikit-learn>=0.24, but you have scikit-learn 0.23.0 which is incompatible.\u001b[0m\u001b[31m\n",
            "\u001b[0mSuccessfully installed scikit-learn-0.23.0\n",
            "\u001b[33mWARNING: Running pip as the 'root' user can result in broken permissions and conflicting behaviour with the system package manager. It is recommended to use a virtual environment instead: https://pip.pypa.io/warnings/venv\u001b[0m\u001b[33m\n",
            "\u001b[0m"
          ]
        }
      ]
    },
    {
      "cell_type": "markdown",
      "source": [
        "31. Примени бэггинг на основе Дерева решений. В качестве эксперемента, сделаем соотношение обучающей и тестовой выборки 90:10\n",
        "В результате было найдено 3 мошеннические транзакции, а F1 увеличили до 0,29. Однако, есть подозрения, что модель просто могла запомнить ответы за счёт слишком большой обучающей выборки и на новых данных поведёт себя не совсем корректно\n",
        "С дургой стороны, увеличенных набор обучающих данных в действительности мог дать модели лучше обучиться, тем самым сделав её более оптимальной"
      ],
      "metadata": {
        "id": "v7zt25WySAn3"
      }
    },
    {
      "cell_type": "code",
      "metadata": {
        "colab": {
          "base_uri": "https://localhost:8080/"
        },
        "id": "NqJ8vrlym_nM",
        "outputId": "be3fd517-d8ec-4c43-992a-52d68e6c8104"
      },
      "source": [
        "from sklearn.ensemble import BaggingClassifier\n",
        "\n",
        "X_train_5, X_test_5, y_train_5, y_test_5 = train_test_split(X_data, y_data, test_size=0.1, random_state=333)  \n",
        "\n",
        "tr = DecisionTreeClassifier(criterion='entropy', #критерий разделения\n",
        "                              min_samples_leaf=20, #минимальное число объектов в листе\n",
        "                              max_leaf_nodes=30, #максимальное число листьев\n",
        "                              random_state=2020)\n",
        "bag = BaggingClassifier(tree, #базовый алгоритм\n",
        "                            n_estimators=10, #количество деревьев\n",
        "                            random_state=2020)\n",
        "\n",
        "clf5=bag.fit(X_train_5, y_train_5)\n",
        "\n",
        "y_pred_5 = pd.Series(clf5.predict(X_test_5), index=X_test_5.index)\n",
        "y_test_5.value_counts()\n"
      ],
      "execution_count": null,
      "outputs": [
        {
          "output_type": "execute_result",
          "data": {
            "text/plain": [
              "0    682\n",
              "1      3\n",
              "Name: class, dtype: int64"
            ]
          },
          "metadata": {},
          "execution_count": 58
        }
      ]
    },
    {
      "cell_type": "code",
      "metadata": {
        "colab": {
          "base_uri": "https://localhost:8080/"
        },
        "id": "0erqkUDAogAm",
        "outputId": "2c1d17d9-ec0c-46f1-f5ca-225e0d01a4e3"
      },
      "source": [
        "confusion_matrix(y_test_5, y_pred_5)"
      ],
      "execution_count": null,
      "outputs": [
        {
          "output_type": "execute_result",
          "data": {
            "text/plain": [
              "array([[679,   3],\n",
              "       [  2,   1]])"
            ]
          },
          "metadata": {},
          "execution_count": 59
        }
      ]
    },
    {
      "cell_type": "code",
      "metadata": {
        "colab": {
          "base_uri": "https://localhost:8080/"
        },
        "id": "RlPuOajlobxZ",
        "outputId": "3d452d4a-1114-4dec-ac27-d7aa937383fa"
      },
      "source": [
        "target_names = ['Legitime', 'Fraud']\n",
        "print(classification_report(y_test_5, y_pred_5, target_names=target_names))"
      ],
      "execution_count": null,
      "outputs": [
        {
          "output_type": "stream",
          "name": "stdout",
          "text": [
            "              precision    recall  f1-score   support\n",
            "\n",
            "    Legitime       1.00      1.00      1.00       682\n",
            "       Fraud       0.25      0.33      0.29         3\n",
            "\n",
            "    accuracy                           0.99       685\n",
            "   macro avg       0.62      0.66      0.64       685\n",
            "weighted avg       0.99      0.99      0.99       685\n",
            "\n"
          ]
        }
      ]
    },
    {
      "cell_type": "code",
      "metadata": {
        "id": "jR7EBAils-ol",
        "colab": {
          "base_uri": "https://localhost:8080/"
        },
        "outputId": "fc9e7545-be46-4171-bf2e-48e052c0d202"
      },
      "source": [
        "#Testing\n",
        "y_pred_5[y_pred_5 == 1].index.intersection(y_test_5[y_test_5 == 1].index)"
      ],
      "execution_count": null,
      "outputs": [
        {
          "output_type": "execute_result",
          "data": {
            "text/plain": [
              "Int64Index([6547], dtype='int64')"
            ]
          },
          "metadata": {},
          "execution_count": 61
        }
      ]
    },
    {
      "cell_type": "markdown",
      "metadata": {
        "id": "W_mEBj0ErF7E"
      },
      "source": [
        "СуперАнсамбль"
      ]
    },
    {
      "cell_type": "code",
      "metadata": {
        "colab": {
          "base_uri": "https://localhost:8080/"
        },
        "id": "osFXQjDGrFFy",
        "outputId": "5c9b3a6e-4713-43dc-90ad-198a974b8a7e"
      },
      "source": [
        "from sklearn.ensemble import StackingClassifier\n",
        "\n",
        "X_train_666, X_test_666, y_train_666, y_test_666 = train_test_split(X_data, y_data, test_size=0.3, random_state=333)  \n",
        "\n",
        "base_estimators = [('Bagging DT', bag), ('DecisionForest', tr)]\n",
        "sclf = StackingClassifier(estimators=base_estimators, final_estimator=lg, cv=2)\n",
        "clf666 = sclf.fit(X_train_666, y_train_666)\n",
        "\n",
        "y_pred_666 = pd.Series(clf666.predict(X_test_666), index=X_test_666.index)\n",
        "y_test_666.value_counts()"
      ],
      "execution_count": null,
      "outputs": [
        {
          "output_type": "execute_result",
          "data": {
            "text/plain": [
              "0    2038\n",
              "1      17\n",
              "Name: class, dtype: int64"
            ]
          },
          "metadata": {},
          "execution_count": 63
        }
      ]
    },
    {
      "cell_type": "code",
      "metadata": {
        "colab": {
          "base_uri": "https://localhost:8080/"
        },
        "id": "a8-6Ue3PsNIP",
        "outputId": "b5e84ecc-d01a-4af7-933f-a705537b6c8c"
      },
      "source": [
        "confusion_matrix(y_test_666, y_pred_666)"
      ],
      "execution_count": null,
      "outputs": [
        {
          "output_type": "execute_result",
          "data": {
            "text/plain": [
              "array([[2017,   21],\n",
              "       [  14,    3]])"
            ]
          },
          "metadata": {},
          "execution_count": 64
        }
      ]
    },
    {
      "cell_type": "code",
      "metadata": {
        "colab": {
          "base_uri": "https://localhost:8080/"
        },
        "id": "ZJYZ34BKsTfK",
        "outputId": "4d198662-7d52-44fa-f0d1-23d5f577c9d9"
      },
      "source": [
        "target_names = ['Legitime', 'Fraud']\n",
        "print(classification_report(y_test_666, y_pred_666, target_names=target_names))"
      ],
      "execution_count": null,
      "outputs": [
        {
          "output_type": "stream",
          "name": "stdout",
          "text": [
            "              precision    recall  f1-score   support\n",
            "\n",
            "    Legitime       0.99      0.99      0.99      2038\n",
            "       Fraud       0.12      0.18      0.15        17\n",
            "\n",
            "    accuracy                           0.98      2055\n",
            "   macro avg       0.56      0.58      0.57      2055\n",
            "weighted avg       0.99      0.98      0.98      2055\n",
            "\n"
          ]
        }
      ]
    },
    {
      "cell_type": "code",
      "metadata": {
        "id": "RzcPyzWRtFxQ",
        "colab": {
          "base_uri": "https://localhost:8080/"
        },
        "outputId": "ace7f2cf-b8b8-43a8-bac5-a27ea32dcd44"
      },
      "source": [
        "#Testing\n",
        "y_pred_666[y_pred_666 == 1].index.intersection(y_test_666[y_test_666 == 1].index)"
      ],
      "execution_count": null,
      "outputs": [
        {
          "output_type": "execute_result",
          "data": {
            "text/plain": [
              "Int64Index([6547, 5070, 6263], dtype='int64')"
            ]
          },
          "metadata": {},
          "execution_count": 66
        }
      ]
    },
    {
      "cell_type": "markdown",
      "metadata": {
        "id": "BMX5upstIt-i"
      },
      "source": [
        "Проверка фрода"
      ]
    },
    {
      "cell_type": "code",
      "metadata": {
        "id": "LCdhJ0fSIz4j",
        "colab": {
          "base_uri": "https://localhost:8080/"
        },
        "outputId": "a90b97dc-af8b-403e-eeec-4afc0673b6dc"
      },
      "source": [
        "print(tg.iloc[6547])\n",
        "print(tg.iloc[5070])\n",
        "print(tg.iloc[714])\n",
        "print(tg.iloc[6263])"
      ],
      "execution_count": null,
      "outputs": [
        {
          "output_type": "stream",
          "name": "stdout",
          "text": [
            "rec_user_id    MBK29495696\n",
            "A                        0\n",
            "C                        0\n",
            "F                        0\n",
            "H                        0\n",
            "J                        0\n",
            "O                        0\n",
            "Q                        0\n",
            "R                       54\n",
            "T                        0\n",
            "U                        0\n",
            "X                        0\n",
            "Z                       56\n",
            "class                    1\n",
            "Name: 6547, dtype: object\n",
            "rec_user_id    74724715\n",
            "A                     0\n",
            "C                     0\n",
            "F                     0\n",
            "H                     0\n",
            "J                     0\n",
            "O                     0\n",
            "Q                     0\n",
            "R                    23\n",
            "T                     0\n",
            "U                     0\n",
            "X                     0\n",
            "Z                    34\n",
            "class                 1\n",
            "Name: 5070, dtype: object\n",
            "rec_user_id    106439794\n",
            "A                      0\n",
            "C                     92\n",
            "F                      0\n",
            "H                      0\n",
            "J                      0\n",
            "O                      0\n",
            "Q                      0\n",
            "R                      6\n",
            "T                      0\n",
            "U                      2\n",
            "X                      0\n",
            "Z                    116\n",
            "class                  1\n",
            "Name: 714, dtype: object\n",
            "rec_user_id    98263762\n",
            "A                     0\n",
            "C                    60\n",
            "F                     0\n",
            "H                     0\n",
            "J                     0\n",
            "O                     0\n",
            "Q                     0\n",
            "R                     0\n",
            "T                     0\n",
            "U                     0\n",
            "X                     0\n",
            "Z                    36\n",
            "class                 1\n",
            "Name: 6263, dtype: object\n"
          ]
        }
      ]
    },
    {
      "cell_type": "markdown",
      "source": [
        "Итог:\n",
        "Таким образом, в результате выполнения работы, было сделано следующее:\n",
        "\n",
        "1. Выбран набор данных и сформулирована ML задача: \n",
        " - Набор данных транзакций из системы онлайн-банкинга. Задача заключалась в обучении модели для поиска фрода\n",
        "\n",
        "2. Произведена EDA на имеющихся данных: \n",
        " - Данные были размечены в соответсвии с откликом системы банковского выявления мошеничества. Также были выбраны наиболее важные колонки (предикторы) для обучения модели. Набор данных был сбалансирован: были убраны дубликаты, а также произведено его сокращение\n",
        "\n",
        "3. Построить и оценить качество безлайна: \n",
        " - Были построены модели обучения, при использовании методов обучения с учителем: Случайный лес, Дерево решений, Логистическая регрессия, К-ближайших соседей а также ансамблевые методы (стэкинг, бэгинг при использовании ранее упомянутых методов)\n",
        " - Также, в качестве оценочной метрики была выбрана матрица ошибок\n",
        "\n",
        " ...\n",
        " ДОПИСАТЬ ПОЗЖЕ\n",
        " ...\n"
      ],
      "metadata": {
        "id": "PBcT33AxjWc6"
      }
    }
  ]
}